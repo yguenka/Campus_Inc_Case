{
 "cells": [
  {
   "cell_type": "markdown",
   "metadata": {},
   "source": [
    "<b>Bibliotecas</b>"
   ]
  },
  {
   "cell_type": "code",
   "execution_count": 1,
   "metadata": {
    "ExecuteTime": {
     "end_time": "2020-07-17T02:42:57.419588Z",
     "start_time": "2020-07-17T02:42:48.612767Z"
    }
   },
   "outputs": [],
   "source": [
    "import requests\n",
    "from bs4 import BeautifulSoup\n",
    "import pandas as pd\n",
    "import re\n",
    "from datetime import date, datetime\n",
    "from ast import literal_eval\n",
    "import matplotlib.pyplot as plt\n",
    "import seaborn as sns"
   ]
  },
  {
   "cell_type": "markdown",
   "metadata": {},
   "source": [
    "<b>API: COVID-19</b>"
   ]
  },
  {
   "cell_type": "code",
   "execution_count": 2,
   "metadata": {
    "ExecuteTime": {
     "end_time": "2020-07-17T02:42:59.001249Z",
     "start_time": "2020-07-17T02:42:57.422307Z"
    },
    "scrolled": true
   },
   "outputs": [],
   "source": [
    "url = \"https://coronavirus-map.p.rapidapi.com/v1/spots/summary\"\n",
    "\n",
    "headers = {\n",
    "    'x-rapidapi-host': \"coronavirus-map.p.rapidapi.com\",\n",
    "    'x-rapidapi-key': \"92274cb262msh0708e2c597ea8bfp1f38e4jsn852f247bcc87\"\n",
    "    }\n",
    "\n",
    "response = requests.request(\"GET\", url, headers=headers)\n"
   ]
  },
  {
   "cell_type": "code",
   "execution_count": 3,
   "metadata": {
    "ExecuteTime": {
     "end_time": "2020-07-17T02:42:59.119888Z",
     "start_time": "2020-07-17T02:42:59.006177Z"
    },
    "scrolled": false
   },
   "outputs": [
    {
     "name": "stderr",
     "output_type": "stream",
     "text": [
      "C:\\Users\\yukar\\anaconda3\\lib\\site-packages\\ipykernel_launcher.py:7: SettingWithCopyWarning: \n",
      "A value is trying to be set on a copy of a slice from a DataFrame\n",
      "\n",
      "See the caveats in the documentation: https://pandas.pydata.org/pandas-docs/stable/user_guide/indexing.html#returning-a-view-versus-a-copy\n",
      "  import sys\n",
      "C:\\Users\\yukar\\anaconda3\\lib\\site-packages\\ipykernel_launcher.py:8: SettingWithCopyWarning: \n",
      "A value is trying to be set on a copy of a slice from a DataFrame\n",
      "\n",
      "See the caveats in the documentation: https://pandas.pydata.org/pandas-docs/stable/user_guide/indexing.html#returning-a-view-versus-a-copy\n",
      "  \n",
      "C:\\Users\\yukar\\anaconda3\\lib\\site-packages\\ipykernel_launcher.py:9: SettingWithCopyWarning: \n",
      "A value is trying to be set on a copy of a slice from a DataFrame\n",
      "\n",
      "See the caveats in the documentation: https://pandas.pydata.org/pandas-docs/stable/user_guide/indexing.html#returning-a-view-versus-a-copy\n",
      "  if __name__ == '__main__':\n"
     ]
    },
    {
     "data": {
      "text/html": [
       "<div>\n",
       "<style scoped>\n",
       "    .dataframe tbody tr th:only-of-type {\n",
       "        vertical-align: middle;\n",
       "    }\n",
       "\n",
       "    .dataframe tbody tr th {\n",
       "        vertical-align: top;\n",
       "    }\n",
       "\n",
       "    .dataframe thead th {\n",
       "        text-align: right;\n",
       "    }\n",
       "</style>\n",
       "<table border=\"1\" class=\"dataframe\">\n",
       "  <thead>\n",
       "    <tr style=\"text-align: right;\">\n",
       "      <th></th>\n",
       "      <th>day</th>\n",
       "      <th>active_cases</th>\n",
       "      <th>total_cases</th>\n",
       "      <th>deaths</th>\n",
       "    </tr>\n",
       "  </thead>\n",
       "  <tbody>\n",
       "    <tr>\n",
       "      <th>0</th>\n",
       "      <td>2020-02-01</td>\n",
       "      <td>11779</td>\n",
       "      <td>12038</td>\n",
       "      <td>259</td>\n",
       "    </tr>\n",
       "    <tr>\n",
       "      <th>1</th>\n",
       "      <td>2020-03-01</td>\n",
       "      <td>85373</td>\n",
       "      <td>88369</td>\n",
       "      <td>2996</td>\n",
       "    </tr>\n",
       "    <tr>\n",
       "      <th>2</th>\n",
       "      <td>2020-04-01</td>\n",
       "      <td>885796</td>\n",
       "      <td>932605</td>\n",
       "      <td>46809</td>\n",
       "    </tr>\n",
       "    <tr>\n",
       "      <th>3</th>\n",
       "      <td>2020-05-01</td>\n",
       "      <td>2080267</td>\n",
       "      <td>3405626</td>\n",
       "      <td>239758</td>\n",
       "    </tr>\n",
       "    <tr>\n",
       "      <th>4</th>\n",
       "      <td>2020-06-01</td>\n",
       "      <td>3092225</td>\n",
       "      <td>6376169</td>\n",
       "      <td>377515</td>\n",
       "    </tr>\n",
       "  </tbody>\n",
       "</table>\n",
       "</div>"
      ],
      "text/plain": [
       "          day  active_cases  total_cases  deaths\n",
       "0  2020-02-01         11779        12038     259\n",
       "1  2020-03-01         85373        88369    2996\n",
       "2  2020-04-01        885796       932605   46809\n",
       "3  2020-05-01       2080267      3405626  239758\n",
       "4  2020-06-01       3092225      6376169  377515"
      ]
     },
     "execution_count": 3,
     "metadata": {},
     "output_type": "execute_result"
    }
   ],
   "source": [
    "val = literal_eval(response.text)\n",
    "df_cases = pd.DataFrame.from_dict(val).reset_index().rename(columns={'index': 'day'}).drop(columns=['status', 'type', 'elements'])\n",
    "df_cases['active_cases'] = 0\n",
    "df_cases['total_cases'] = 0\n",
    "df_cases['deaths'] = 0\n",
    "for item in range(len(df_cases)):\n",
    "    df_cases['active_cases'][item] =  df_cases['data'][item].get('active_cases')\n",
    "    df_cases['total_cases'][item] =  df_cases['data'][item].get('total_cases')\n",
    "    df_cases['deaths'][item] = df_cases['data'][item].get('deaths')\n",
    "\n",
    "df_cases = df_cases.drop(columns=['data'])\n",
    "mask = (df_cases['day']== '2020-01-01') | (df_cases['day']== '2020-02-01') | (df_cases['day']== '2020-03-01') | (df_cases['day']== '2020-04-01') | (df_cases['day']== '2020-05-01') | (df_cases['day']== '2020-06-01')\n",
    "df_cases_day = df_cases[mask].reset_index(drop=True)\n",
    "df_cases_day"
   ]
  },
  {
   "cell_type": "code",
   "execution_count": 4,
   "metadata": {
    "ExecuteTime": {
     "end_time": "2020-07-17T02:42:59.181522Z",
     "start_time": "2020-07-17T02:42:59.120883Z"
    }
   },
   "outputs": [
    {
     "data": {
      "text/html": [
       "<div>\n",
       "<style scoped>\n",
       "    .dataframe tbody tr th:only-of-type {\n",
       "        vertical-align: middle;\n",
       "    }\n",
       "\n",
       "    .dataframe tbody tr th {\n",
       "        vertical-align: top;\n",
       "    }\n",
       "\n",
       "    .dataframe thead th {\n",
       "        text-align: right;\n",
       "    }\n",
       "</style>\n",
       "<table border=\"1\" class=\"dataframe\">\n",
       "  <thead>\n",
       "    <tr style=\"text-align: right;\">\n",
       "      <th></th>\n",
       "      <th>day</th>\n",
       "      <th>active_cases</th>\n",
       "      <th>total_cases</th>\n",
       "      <th>deaths</th>\n",
       "    </tr>\n",
       "  </thead>\n",
       "  <tbody>\n",
       "    <tr>\n",
       "      <th>0</th>\n",
       "      <td>2020-01-21</td>\n",
       "      <td>0</td>\n",
       "      <td>0</td>\n",
       "      <td>0</td>\n",
       "    </tr>\n",
       "    <tr>\n",
       "      <th>1</th>\n",
       "      <td>2020-01-22</td>\n",
       "      <td>538</td>\n",
       "      <td>555</td>\n",
       "      <td>17</td>\n",
       "    </tr>\n",
       "    <tr>\n",
       "      <th>2</th>\n",
       "      <td>2020-01-23</td>\n",
       "      <td>636</td>\n",
       "      <td>654</td>\n",
       "      <td>18</td>\n",
       "    </tr>\n",
       "    <tr>\n",
       "      <th>3</th>\n",
       "      <td>2020-01-24</td>\n",
       "      <td>915</td>\n",
       "      <td>941</td>\n",
       "      <td>26</td>\n",
       "    </tr>\n",
       "    <tr>\n",
       "      <th>4</th>\n",
       "      <td>2020-01-25</td>\n",
       "      <td>1392</td>\n",
       "      <td>1434</td>\n",
       "      <td>42</td>\n",
       "    </tr>\n",
       "    <tr>\n",
       "      <th>...</th>\n",
       "      <td>...</td>\n",
       "      <td>...</td>\n",
       "      <td>...</td>\n",
       "      <td>...</td>\n",
       "    </tr>\n",
       "    <tr>\n",
       "      <th>174</th>\n",
       "      <td>2020-07-13</td>\n",
       "      <td>4951183</td>\n",
       "      <td>13309624</td>\n",
       "      <td>575824</td>\n",
       "    </tr>\n",
       "    <tr>\n",
       "      <th>175</th>\n",
       "      <td>2020-07-14</td>\n",
       "      <td>4989334</td>\n",
       "      <td>13529076</td>\n",
       "      <td>581109</td>\n",
       "    </tr>\n",
       "    <tr>\n",
       "      <th>176</th>\n",
       "      <td>2020-07-15</td>\n",
       "      <td>5035184</td>\n",
       "      <td>13752395</td>\n",
       "      <td>586843</td>\n",
       "    </tr>\n",
       "    <tr>\n",
       "      <th>177</th>\n",
       "      <td>2020-07-16</td>\n",
       "      <td>5095888</td>\n",
       "      <td>13994075</td>\n",
       "      <td>592400</td>\n",
       "    </tr>\n",
       "    <tr>\n",
       "      <th>178</th>\n",
       "      <td>2020-07-17</td>\n",
       "      <td>5052651</td>\n",
       "      <td>13925004</td>\n",
       "      <td>590722</td>\n",
       "    </tr>\n",
       "  </tbody>\n",
       "</table>\n",
       "<p>179 rows × 4 columns</p>\n",
       "</div>"
      ],
      "text/plain": [
       "            day  active_cases  total_cases  deaths\n",
       "0    2020-01-21             0            0       0\n",
       "1    2020-01-22           538          555      17\n",
       "2    2020-01-23           636          654      18\n",
       "3    2020-01-24           915          941      26\n",
       "4    2020-01-25          1392         1434      42\n",
       "..          ...           ...          ...     ...\n",
       "174  2020-07-13       4951183     13309624  575824\n",
       "175  2020-07-14       4989334     13529076  581109\n",
       "176  2020-07-15       5035184     13752395  586843\n",
       "177  2020-07-16       5095888     13994075  592400\n",
       "178  2020-07-17       5052651     13925004  590722\n",
       "\n",
       "[179 rows x 4 columns]"
      ]
     },
     "execution_count": 4,
     "metadata": {},
     "output_type": "execute_result"
    }
   ],
   "source": [
    "df_cases"
   ]
  },
  {
   "cell_type": "markdown",
   "metadata": {},
   "source": [
    "<b>API: Quantidade de acessos - Netflix</b>"
   ]
  },
  {
   "cell_type": "code",
   "execution_count": 5,
   "metadata": {
    "ExecuteTime": {
     "end_time": "2020-07-17T02:43:00.579462Z",
     "start_time": "2020-07-17T02:42:59.183515Z"
    },
    "scrolled": true
   },
   "outputs": [
    {
     "name": "stdout",
     "output_type": "stream",
     "text": [
      "{\"engagement\":{\"avgVisitDuration\":585,\"bounceRate\":0.4343,\"pagesPerVisit\":4.25,\"totalVisits\":2528200000},\"monthlyVisitsEstimate\":{\"2020-01-01\":2388000000,\"2020-02-01\":2003000000,\"2020-03-01\":2524000000,\"2020-04-01\":2967000000,\"2020-05-01\":2795000000,\"2020-06-01\":2528000000},\"name\":\"netflix.com\",\"trafficShareByCountry\":[{\"United States\":0.2596},{\"Brazil\":0.0677},{\"United Kingdom\":0.0555},{\"Canada\":0.0528},{\"France\":0.0355}],\"trafficSources\":{\"Direct\":0.8729,\"Mail\":0.0186,\"Paid Referrals\":0.0003,\"Referrals\":0.0018,\"Search\":0.084,\"Social\":0.022}}\n",
      "\n"
     ]
    }
   ],
   "source": [
    "url = \"https://similarweb2.p.rapidapi.com/trafficoverview\"\n",
    "\n",
    "querystring = {\"website\":\"https://www.netflix.com\"}\n",
    "\n",
    "headers = {\n",
    "    'x-rapidapi-host': \"similarweb2.p.rapidapi.com\",\n",
    "    'x-rapidapi-key': \"92274cb262msh0708e2c597ea8bfp1f38e4jsn852f247bcc87\"\n",
    "    }\n",
    "\n",
    "response = requests.request(\"GET\", url, headers=headers, params=querystring)\n",
    "\n",
    "print(response.text)"
   ]
  },
  {
   "cell_type": "code",
   "execution_count": 6,
   "metadata": {
    "ExecuteTime": {
     "end_time": "2020-07-17T02:43:00.596415Z",
     "start_time": "2020-07-17T02:43:00.582453Z"
    },
    "scrolled": true
   },
   "outputs": [
    {
     "data": {
      "text/html": [
       "<div>\n",
       "<style scoped>\n",
       "    .dataframe tbody tr th:only-of-type {\n",
       "        vertical-align: middle;\n",
       "    }\n",
       "\n",
       "    .dataframe tbody tr th {\n",
       "        vertical-align: top;\n",
       "    }\n",
       "\n",
       "    .dataframe thead th {\n",
       "        text-align: right;\n",
       "    }\n",
       "</style>\n",
       "<table border=\"1\" class=\"dataframe\">\n",
       "  <thead>\n",
       "    <tr style=\"text-align: right;\">\n",
       "      <th></th>\n",
       "      <th>Data</th>\n",
       "      <th>Qtd_Acessos</th>\n",
       "    </tr>\n",
       "  </thead>\n",
       "  <tbody>\n",
       "    <tr>\n",
       "      <th>1</th>\n",
       "      <td>2020-02-01</td>\n",
       "      <td>2003000000</td>\n",
       "    </tr>\n",
       "    <tr>\n",
       "      <th>2</th>\n",
       "      <td>2020-03-01</td>\n",
       "      <td>2524000000</td>\n",
       "    </tr>\n",
       "    <tr>\n",
       "      <th>3</th>\n",
       "      <td>2020-04-01</td>\n",
       "      <td>2967000000</td>\n",
       "    </tr>\n",
       "    <tr>\n",
       "      <th>4</th>\n",
       "      <td>2020-05-01</td>\n",
       "      <td>2795000000</td>\n",
       "    </tr>\n",
       "    <tr>\n",
       "      <th>5</th>\n",
       "      <td>2020-06-01</td>\n",
       "      <td>2528000000</td>\n",
       "    </tr>\n",
       "  </tbody>\n",
       "</table>\n",
       "</div>"
      ],
      "text/plain": [
       "         Data  Qtd_Acessos\n",
       "1  2020-02-01   2003000000\n",
       "2  2020-03-01   2524000000\n",
       "3  2020-04-01   2967000000\n",
       "4  2020-05-01   2795000000\n",
       "5  2020-06-01   2528000000"
      ]
     },
     "execution_count": 6,
     "metadata": {},
     "output_type": "execute_result"
    }
   ],
   "source": [
    "netflix = literal_eval(response.text)\n",
    "month_netflix = netflix.get('monthlyVisitsEstimate')\n",
    "df_netflix = pd.DataFrame.from_dict(month_netflix, orient='index').reset_index().rename(columns={'index':'Data', 0: \"Qtd_Acessos\"})\n",
    "mask = df_netflix['Data'] != '2020-01-01'\n",
    "df_netflix = df_netflix[mask]\n",
    "df_netflix"
   ]
  },
  {
   "cell_type": "code",
   "execution_count": 7,
   "metadata": {
    "ExecuteTime": {
     "end_time": "2020-07-17T02:43:00.744911Z",
     "start_time": "2020-07-17T02:43:00.599407Z"
    }
   },
   "outputs": [
    {
     "data": {
      "text/html": [
       "<div>\n",
       "<style scoped>\n",
       "    .dataframe tbody tr th:only-of-type {\n",
       "        vertical-align: middle;\n",
       "    }\n",
       "\n",
       "    .dataframe tbody tr th {\n",
       "        vertical-align: top;\n",
       "    }\n",
       "\n",
       "    .dataframe thead th {\n",
       "        text-align: right;\n",
       "    }\n",
       "</style>\n",
       "<table border=\"1\" class=\"dataframe\">\n",
       "  <thead>\n",
       "    <tr style=\"text-align: right;\">\n",
       "      <th></th>\n",
       "      <th>country</th>\n",
       "      <th>country_acessos</th>\n",
       "      <th>acessos</th>\n",
       "    </tr>\n",
       "  </thead>\n",
       "  <tbody>\n",
       "    <tr>\n",
       "      <th>0</th>\n",
       "      <td>United States</td>\n",
       "      <td>0.2596</td>\n",
       "      <td>656268800.0</td>\n",
       "    </tr>\n",
       "    <tr>\n",
       "      <th>1</th>\n",
       "      <td>Brazil</td>\n",
       "      <td>0.0677</td>\n",
       "      <td>171145600.0</td>\n",
       "    </tr>\n",
       "    <tr>\n",
       "      <th>2</th>\n",
       "      <td>United Kingdom</td>\n",
       "      <td>0.0555</td>\n",
       "      <td>140304000.0</td>\n",
       "    </tr>\n",
       "    <tr>\n",
       "      <th>3</th>\n",
       "      <td>Canada</td>\n",
       "      <td>0.0528</td>\n",
       "      <td>133478400.0</td>\n",
       "    </tr>\n",
       "    <tr>\n",
       "      <th>4</th>\n",
       "      <td>France</td>\n",
       "      <td>0.0355</td>\n",
       "      <td>89744000.0</td>\n",
       "    </tr>\n",
       "  </tbody>\n",
       "</table>\n",
       "</div>"
      ],
      "text/plain": [
       "          country  country_acessos      acessos\n",
       "0   United States           0.2596  656268800.0\n",
       "1          Brazil           0.0677  171145600.0\n",
       "2  United Kingdom           0.0555  140304000.0\n",
       "3          Canada           0.0528  133478400.0\n",
       "4          France           0.0355   89744000.0"
      ]
     },
     "execution_count": 7,
     "metadata": {},
     "output_type": "execute_result"
    }
   ],
   "source": [
    "country_netflix = netflix.get(\"trafficShareByCountry\")\n",
    "df_p_netflix = pd.DataFrame(country_netflix).T\n",
    "df_p_netflix['country_acessos'] = df_p_netflix.T.sum()\n",
    "df_p_netflix = df_p_netflix.drop(columns=[0, 1, 2, 3, 4]).reset_index().rename(columns={'index':'country'})\n",
    "df_p_netflix['acessos'] = df_p_netflix['country_acessos']*df_netflix['Qtd_Acessos'][5]\n",
    "df_p_netflix"
   ]
  },
  {
   "cell_type": "markdown",
   "metadata": {},
   "source": [
    "<b>API: Quantidade de acessos - Youtube</b>"
   ]
  },
  {
   "cell_type": "code",
   "execution_count": 8,
   "metadata": {
    "ExecuteTime": {
     "end_time": "2020-07-17T02:43:01.910195Z",
     "start_time": "2020-07-17T02:43:00.749897Z"
    }
   },
   "outputs": [
    {
     "name": "stdout",
     "output_type": "stream",
     "text": [
      "{\"engagement\":{\"avgVisitDuration\":1329,\"bounceRate\":0.2525,\"pagesPerVisit\":9.28,\"totalVisits\":31052000000},\"monthlyVisitsEstimate\":{\"2020-01-01\":29530000000,\"2020-02-01\":27360000000,\"2020-03-01\":31340000000,\"2020-04-01\":33380000000,\"2020-05-01\":33540000000,\"2020-06-01\":31050000000},\"name\":\"youtube.com\",\"trafficShareByCountry\":[{\"United States\":0.202},{\"Russian Federation\":0.0534},{\"Brazil\":0.0511},{\"United Kingdom\":0.0389},{\"India\":0.0352}],\"trafficSources\":{\"Direct\":0.7234,\"Mail\":0.0222,\"Paid Referrals\":0.0006,\"Referrals\":0.016,\"Search\":0.2004,\"Social\":0.0371}}\n",
      "\n"
     ]
    }
   ],
   "source": [
    "url = \"https://similarweb2.p.rapidapi.com/trafficoverview\"\n",
    "\n",
    "querystring = {\"website\":\"https://www.youtube.com\"}\n",
    "\n",
    "headers = {\n",
    "    'x-rapidapi-host': \"similarweb2.p.rapidapi.com\",\n",
    "    'x-rapidapi-key': \"92274cb262msh0708e2c597ea8bfp1f38e4jsn852f247bcc87\"\n",
    "    }\n",
    "\n",
    "response = requests.request(\"GET\", url, headers=headers, params=querystring)\n",
    "\n",
    "print(response.text)"
   ]
  },
  {
   "cell_type": "code",
   "execution_count": 9,
   "metadata": {
    "ExecuteTime": {
     "end_time": "2020-07-17T02:43:01.938105Z",
     "start_time": "2020-07-17T02:43:01.914172Z"
    }
   },
   "outputs": [
    {
     "data": {
      "text/html": [
       "<div>\n",
       "<style scoped>\n",
       "    .dataframe tbody tr th:only-of-type {\n",
       "        vertical-align: middle;\n",
       "    }\n",
       "\n",
       "    .dataframe tbody tr th {\n",
       "        vertical-align: top;\n",
       "    }\n",
       "\n",
       "    .dataframe thead th {\n",
       "        text-align: right;\n",
       "    }\n",
       "</style>\n",
       "<table border=\"1\" class=\"dataframe\">\n",
       "  <thead>\n",
       "    <tr style=\"text-align: right;\">\n",
       "      <th></th>\n",
       "      <th>Data</th>\n",
       "      <th>Qtd_Acessos</th>\n",
       "    </tr>\n",
       "  </thead>\n",
       "  <tbody>\n",
       "    <tr>\n",
       "      <th>1</th>\n",
       "      <td>2020-02-01</td>\n",
       "      <td>27360000000</td>\n",
       "    </tr>\n",
       "    <tr>\n",
       "      <th>2</th>\n",
       "      <td>2020-03-01</td>\n",
       "      <td>31340000000</td>\n",
       "    </tr>\n",
       "    <tr>\n",
       "      <th>3</th>\n",
       "      <td>2020-04-01</td>\n",
       "      <td>33380000000</td>\n",
       "    </tr>\n",
       "    <tr>\n",
       "      <th>4</th>\n",
       "      <td>2020-05-01</td>\n",
       "      <td>33540000000</td>\n",
       "    </tr>\n",
       "    <tr>\n",
       "      <th>5</th>\n",
       "      <td>2020-06-01</td>\n",
       "      <td>31050000000</td>\n",
       "    </tr>\n",
       "  </tbody>\n",
       "</table>\n",
       "</div>"
      ],
      "text/plain": [
       "         Data  Qtd_Acessos\n",
       "1  2020-02-01  27360000000\n",
       "2  2020-03-01  31340000000\n",
       "3  2020-04-01  33380000000\n",
       "4  2020-05-01  33540000000\n",
       "5  2020-06-01  31050000000"
      ]
     },
     "execution_count": 9,
     "metadata": {},
     "output_type": "execute_result"
    }
   ],
   "source": [
    "youtube = literal_eval(response.text)\n",
    "month_youtube = youtube.get('monthlyVisitsEstimate')\n",
    "df_youtube = pd.DataFrame.from_dict(month_youtube, orient='index').reset_index().rename(columns={'index':'Data', 0: \"Qtd_Acessos\"})\n",
    "mask = df_youtube['Data'] != '2020-01-01'\n",
    "df_youtube = df_youtube[mask]\n",
    "df_youtube"
   ]
  },
  {
   "cell_type": "code",
   "execution_count": 17,
   "metadata": {
    "ExecuteTime": {
     "end_time": "2020-07-17T03:01:04.954810Z",
     "start_time": "2020-07-17T03:01:04.930908Z"
    },
    "scrolled": true
   },
   "outputs": [
    {
     "data": {
      "text/html": [
       "<div>\n",
       "<style scoped>\n",
       "    .dataframe tbody tr th:only-of-type {\n",
       "        vertical-align: middle;\n",
       "    }\n",
       "\n",
       "    .dataframe tbody tr th {\n",
       "        vertical-align: top;\n",
       "    }\n",
       "\n",
       "    .dataframe thead th {\n",
       "        text-align: right;\n",
       "    }\n",
       "</style>\n",
       "<table border=\"1\" class=\"dataframe\">\n",
       "  <thead>\n",
       "    <tr style=\"text-align: right;\">\n",
       "      <th></th>\n",
       "      <th>country</th>\n",
       "      <th>country_acessos</th>\n",
       "      <th>acessos</th>\n",
       "    </tr>\n",
       "  </thead>\n",
       "  <tbody>\n",
       "    <tr>\n",
       "      <th>0</th>\n",
       "      <td>United States</td>\n",
       "      <td>0.2020</td>\n",
       "      <td>6.272100e+09</td>\n",
       "    </tr>\n",
       "    <tr>\n",
       "      <th>1</th>\n",
       "      <td>Russian Federation</td>\n",
       "      <td>0.0534</td>\n",
       "      <td>1.658070e+09</td>\n",
       "    </tr>\n",
       "    <tr>\n",
       "      <th>2</th>\n",
       "      <td>Brazil</td>\n",
       "      <td>0.0511</td>\n",
       "      <td>1.586655e+09</td>\n",
       "    </tr>\n",
       "    <tr>\n",
       "      <th>3</th>\n",
       "      <td>United Kingdom</td>\n",
       "      <td>0.0389</td>\n",
       "      <td>1.207845e+09</td>\n",
       "    </tr>\n",
       "    <tr>\n",
       "      <th>4</th>\n",
       "      <td>India</td>\n",
       "      <td>0.0352</td>\n",
       "      <td>1.092960e+09</td>\n",
       "    </tr>\n",
       "  </tbody>\n",
       "</table>\n",
       "</div>"
      ],
      "text/plain": [
       "              country  country_acessos       acessos\n",
       "0       United States           0.2020  6.272100e+09\n",
       "1  Russian Federation           0.0534  1.658070e+09\n",
       "2              Brazil           0.0511  1.586655e+09\n",
       "3      United Kingdom           0.0389  1.207845e+09\n",
       "4               India           0.0352  1.092960e+09"
      ]
     },
     "execution_count": 17,
     "metadata": {},
     "output_type": "execute_result"
    }
   ],
   "source": [
    "country_youtube = youtube.get(\"trafficShareByCountry\")\n",
    "df_p_youtube = pd.DataFrame(country_youtube).T\n",
    "df_p_youtube['country_acessos'] = df_p_youtube.T.sum()\n",
    "df_p_youtube = df_p_youtube.drop(columns=[0, 1, 2, 3, 4]).reset_index().rename(columns={'index':'country'})\n",
    "df_p_youtube['acessos'] = df_p_youtube['country_acessos']*df_youtube['Qtd_Acessos'][5]\n",
    "df_p_youtube"
   ]
  },
  {
   "cell_type": "markdown",
   "metadata": {},
   "source": [
    "<b>Base de dados</b>"
   ]
  },
  {
   "cell_type": "code",
   "execution_count": 12,
   "metadata": {
    "ExecuteTime": {
     "end_time": "2020-07-17T02:43:02.229026Z",
     "start_time": "2020-07-17T02:43:02.128994Z"
    }
   },
   "outputs": [],
   "source": [
    "df_cases_day.to_csv('cases.csv')\n",
    "acessos.to_csv('acessos.csv')\n",
    "df_p_youtube.to_csv('paises_youtube.csv')\n",
    "df_p_netflix.to_csv('paises_netflix.csv')"
   ]
  },
  {
   "cell_type": "markdown",
   "metadata": {},
   "source": [
    "<b>Gráficos<b>"
   ]
  },
  {
   "cell_type": "code",
   "execution_count": 13,
   "metadata": {
    "ExecuteTime": {
     "end_time": "2020-07-17T02:43:02.614229Z",
     "start_time": "2020-07-17T02:43:02.232002Z"
    }
   },
   "outputs": [
    {
     "data": {
      "image/png": "[encoded data removed]",
      "text/plain": [
       "<Figure size 720x648 with 3 Axes>"
      ]
     },
     "metadata": {
      "needs_background": "light"
     },
     "output_type": "display_data"
    }
   ],
   "source": [
    "fig, ax = plt.subplots(3, 1, figsize=(10,9))\n",
    "ax[0].plot(df_cases_day['day'], df_cases_day['total_cases'], 'black')\n",
    "ax[0].legend(['Casos de COVID-19'])\n",
    "\n",
    "ax[1].bar(df_netflix['Data'], df_netflix['Qtd_Acessos'], width=0.25, color = 'b')\n",
    "ax[1].legend(['Quantidade de acessos na Netflix'])\n",
    "\n",
    "ax[2].bar(df_youtube['Data'], df_youtube['Qtd_Acessos'], width=0.25, color = 'r')\n",
    "ax[2].legend(['Quantidade de acessos no Youtube'])\n",
    "plt.show()"
   ]
  }
 ],
 "metadata": {
  "kernelspec": {
   "display_name": "Python 3",
   "language": "python",
   "name": "python3"
  },
  "language_info": {
   "codemirror_mode": {
    "name": "ipython",
    "version": 3
   },
   "file_extension": ".py",
   "mimetype": "text/x-python",
   "name": "python",
   "nbconvert_exporter": "python",
   "pygments_lexer": "ipython3",
   "version": "3.7.6"
  },
  "nbTranslate": {
   "displayLangs": [
    "*"
   ],
   "hotkey": "alt-t",
   "langInMainMenu": true,
   "sourceLang": "en",
   "targetLang": "fr",
   "useGoogleTranslate": true
  },
  "toc": {
   "base_numbering": 1,
   "nav_menu": {},
   "number_sections": true,
   "sideBar": true,
   "skip_h1_title": false,
   "title_cell": "Table of Contents",
   "title_sidebar": "Contents",
   "toc_cell": false,
   "toc_position": {},
   "toc_section_display": true,
   "toc_window_display": false
  }
 },
 "nbformat": 4,
 "nbformat_minor": 4
}
