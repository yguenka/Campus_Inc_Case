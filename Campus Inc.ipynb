{
 "cells": [
  {
   "cell_type": "markdown",
   "metadata": {},
   "source": [
    "<b>Bibliotecas</b>"
   ]
  },
  {
   "cell_type": "code",
   "execution_count": null,
   "metadata": {
    "ExecuteTime": {
     "start_time": "2020-07-17T02:13:14.639Z"
    }
   },
   "outputs": [],
   "source": [
    "import requests\n",
    "from bs4 import BeautifulSoup\n",
    "import pandas as pd\n",
    "import re\n",
    "from datetime import date, datetime\n",
    "from ast import literal_eval\n",
    "import matplotlib.pyplot as plt\n",
    "import seaborn as sns"
   ]
  },
  {
   "cell_type": "markdown",
   "metadata": {},
   "source": [
    "<b>API: COVID-19</b>"
   ]
  },
  {
   "cell_type": "code",
   "execution_count": null,
   "metadata": {
    "ExecuteTime": {
     "start_time": "2020-07-17T02:13:14.667Z"
    },
    "scrolled": true
   },
   "outputs": [],
   "source": [
    "url = \"https://coronavirus-map.p.rapidapi.com/v1/spots/summary\"\n",
    "\n",
    "headers = {\n",
    "    'x-rapidapi-host': \"coronavirus-map.p.rapidapi.com\",\n",
    "    'x-rapidapi-key': \"92274cb262msh0708e2c597ea8bfp1f38e4jsn852f247bcc87\"\n",
    "    }\n",
    "\n",
    "response = requests.request(\"GET\", url, headers=headers)\n"
   ]
  },
  {
   "cell_type": "code",
   "execution_count": null,
   "metadata": {
    "ExecuteTime": {
     "start_time": "2020-07-17T02:13:14.695Z"
    },
    "scrolled": false
   },
   "outputs": [],
   "source": [
    "val = literal_eval(response.text)\n",
    "df_cases = pd.DataFrame.from_dict(val).reset_index().rename(columns={'index': 'day'}).drop(columns=['status', 'type', 'elements'])\n",
    "df_cases['active_cases'] = 0\n",
    "df_cases['total_cases'] = 0\n",
    "df_cases['deaths'] = 0\n",
    "for item in range(len(df_cases)):\n",
    "    df_cases['active_cases'][item] =  df_cases['data'][item].get('active_cases')\n",
    "    df_cases['total_cases'][item] =  df_cases['data'][item].get('total_cases')\n",
    "    df_cases['deaths'][item] = df_cases['data'][item].get('deaths')\n",
    "\n",
    "df_cases = df_cases.drop(columns=['data'])\n",
    "mask = (df_cases['day']== '2020-01-01') | (df_cases['day']== '2020-02-01') | (df_cases['day']== '2020-03-01') | (df_cases['day']== '2020-04-01') | (df_cases['day']== '2020-05-01') | (df_cases['day']== '2020-06-01')\n",
    "df_cases_day = df_cases[mask].reset_index(drop=True)\n",
    "df_cases_day"
   ]
  },
  {
   "cell_type": "code",
   "execution_count": null,
   "metadata": {
    "ExecuteTime": {
     "start_time": "2020-07-17T02:13:14.720Z"
    }
   },
   "outputs": [],
   "source": [
    "df_cases"
   ]
  },
  {
   "cell_type": "markdown",
   "metadata": {},
   "source": [
    "<b>API: Quantidade de acessos - Netflix</b>"
   ]
  },
  {
   "cell_type": "code",
   "execution_count": null,
   "metadata": {
    "ExecuteTime": {
     "start_time": "2020-07-17T02:13:14.748Z"
    },
    "scrolled": true
   },
   "outputs": [],
   "source": [
    "url = \"https://similarweb2.p.rapidapi.com/trafficoverview\"\n",
    "\n",
    "querystring = {\"website\":\"https://www.netflix.com\"}\n",
    "\n",
    "headers = {\n",
    "    'x-rapidapi-host': \"similarweb2.p.rapidapi.com\",\n",
    "    'x-rapidapi-key': \"92274cb262msh0708e2c597ea8bfp1f38e4jsn852f247bcc87\"\n",
    "    }\n",
    "\n",
    "response = requests.request(\"GET\", url, headers=headers, params=querystring)\n",
    "\n",
    "print(response.text)"
   ]
  },
  {
   "cell_type": "code",
   "execution_count": null,
   "metadata": {
    "ExecuteTime": {
     "start_time": "2020-07-17T02:13:14.771Z"
    },
    "scrolled": true
   },
   "outputs": [],
   "source": [
    "netflix = literal_eval(response.text)\n",
    "month_netflix = netflix.get('monthlyVisitsEstimate')\n",
    "df_netflix = pd.DataFrame.from_dict(month_netflix, orient='index').reset_index().rename(columns={'index':'Data', 0: \"Qtd_Acessos\"})\n",
    "mask = df_netflix['Data'] != '2020-01-01'\n",
    "df_netflix = df_netflix[mask]\n",
    "df_netflix"
   ]
  },
  {
   "cell_type": "code",
   "execution_count": null,
   "metadata": {
    "ExecuteTime": {
     "start_time": "2020-07-17T02:13:14.793Z"
    }
   },
   "outputs": [],
   "source": [
    "country_netflix = netflix.get(\"trafficShareByCountry\")\n",
    "df_p_netflix = pd.DataFrame(country_netflix).T\n",
    "df_p_netflix['country_acessos'] = df_p_netflix.T.sum()\n",
    "df_p_netflix = df_p_netflix.drop(columns=[0, 1, 2, 3, 4]).reset_index().rename(columns={'index':'country'})\n",
    "df_p_netflix"
   ]
  },
  {
   "cell_type": "markdown",
   "metadata": {},
   "source": [
    "<b>API: Quantidade de acessos - Youtube</b>"
   ]
  },
  {
   "cell_type": "code",
   "execution_count": null,
   "metadata": {
    "ExecuteTime": {
     "start_time": "2020-07-17T02:13:14.821Z"
    }
   },
   "outputs": [],
   "source": [
    "url = \"https://similarweb2.p.rapidapi.com/trafficoverview\"\n",
    "\n",
    "querystring = {\"website\":\"https://www.youtube.com\"}\n",
    "\n",
    "headers = {\n",
    "    'x-rapidapi-host': \"similarweb2.p.rapidapi.com\",\n",
    "    'x-rapidapi-key': \"92274cb262msh0708e2c597ea8bfp1f38e4jsn852f247bcc87\"\n",
    "    }\n",
    "\n",
    "response = requests.request(\"GET\", url, headers=headers, params=querystring)\n",
    "\n",
    "print(response.text)"
   ]
  },
  {
   "cell_type": "code",
   "execution_count": null,
   "metadata": {
    "ExecuteTime": {
     "start_time": "2020-07-17T02:13:14.843Z"
    }
   },
   "outputs": [],
   "source": [
    "youtube = literal_eval(response.text)\n",
    "month_youtube = youtube.get('monthlyVisitsEstimate')\n",
    "df_youtube = pd.DataFrame.from_dict(month_youtube, orient='index').reset_index().rename(columns={'index':'Data', 0: \"Qtd_Acessos\"})\n",
    "mask = df_youtube['Data'] != '2020-01-01'\n",
    "df_youtube = df_youtube[mask]\n",
    "df_youtube"
   ]
  },
  {
   "cell_type": "code",
   "execution_count": null,
   "metadata": {
    "ExecuteTime": {
     "start_time": "2020-07-17T02:13:14.865Z"
    },
    "scrolled": true
   },
   "outputs": [],
   "source": [
    "country_youtube = youtube.get(\"trafficShareByCountry\")\n",
    "df_p_youtube = pd.DataFrame(country_youtube).T\n",
    "df_p_youtube['country_acessos'] = df_p_youtube.T.sum()\n",
    "df_p_youtube = df_p_youtube.drop(columns=[0, 1, 2, 3, 4]).reset_index().rename(columns={'index':'country'})\n",
    "df_p_youtube"
   ]
  },
  {
   "cell_type": "markdown",
   "metadata": {},
   "source": [
    "<b>Base de dados</b>"
   ]
  },
  {
   "cell_type": "code",
   "execution_count": null,
   "metadata": {
    "ExecuteTime": {
     "start_time": "2020-07-17T02:13:14.891Z"
    }
   },
   "outputs": [],
   "source": [
    "acessos = pd.merge(df_netflix, df_youtube, on='Data', how='left', suffixes=('_netflix', '_youtube')).reset_index(drop=True)\n",
    "acessos"
   ]
  },
  {
   "cell_type": "code",
   "execution_count": null,
   "metadata": {
    "ExecuteTime": {
     "start_time": "2020-07-17T02:13:14.917Z"
    }
   },
   "outputs": [],
   "source": [
    "df_cases_day.to_csv('cases.csv')\n",
    "acessos.to_csv('acessos.csv')\n",
    "df_p_youtube.to_csv('paises_youtube.csv')\n",
    "df_p_netflix.to_csv('paises_netflix.csv')"
   ]
  },
  {
   "cell_type": "markdown",
   "metadata": {},
   "source": [
    "<b>Gráficos<b>"
   ]
  },
  {
   "cell_type": "code",
   "execution_count": null,
   "metadata": {
    "ExecuteTime": {
     "start_time": "2020-07-17T02:13:14.948Z"
    }
   },
   "outputs": [],
   "source": [
    "fig, ax = plt.subplots(3, 1, figsize=(10,9))\n",
    "ax[0].plot(df_cases_day['day'], df_cases_day['total_cases'], 'black')\n",
    "ax[0].legend(['Casos de COVID-19'])\n",
    "\n",
    "ax[1].bar(df_netflix['Data'], df_netflix['Qtd_Acessos'], width=0.25, color = 'b')\n",
    "ax[1].legend(['Quantidade de acessos na Netflix'])\n",
    "\n",
    "ax[2].bar(df_youtube['Data'], df_youtube['Qtd_Acessos'], width=0.25, color = 'r')\n",
    "ax[2].legend(['Quantidade de acessos no Youtube'])\n",
    "plt.show()"
   ]
  }
 ],
 "metadata": {
  "kernelspec": {
   "display_name": "Python 3",
   "language": "python",
   "name": "python3"
  },
  "language_info": {
   "codemirror_mode": {
    "name": "ipython",
    "version": 3
   },
   "file_extension": ".py",
   "mimetype": "text/x-python",
   "name": "python",
   "nbconvert_exporter": "python",
   "pygments_lexer": "ipython3",
   "version": "3.7.6"
  },
  "nbTranslate": {
   "displayLangs": [
    "*"
   ],
   "hotkey": "alt-t",
   "langInMainMenu": true,
   "sourceLang": "en",
   "targetLang": "fr",
   "useGoogleTranslate": true
  },
  "toc": {
   "base_numbering": 1,
   "nav_menu": {},
   "number_sections": true,
   "sideBar": true,
   "skip_h1_title": false,
   "title_cell": "Table of Contents",
   "title_sidebar": "Contents",
   "toc_cell": false,
   "toc_position": {},
   "toc_section_display": true,
   "toc_window_display": false
  }
 },
 "nbformat": 4,
 "nbformat_minor": 4
}
