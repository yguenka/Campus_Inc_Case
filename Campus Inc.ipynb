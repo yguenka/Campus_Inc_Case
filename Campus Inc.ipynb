{
 "cells": [
  {
   "cell_type": "markdown",
   "metadata": {},
   "source": [
    "<b>Bibliotecas</b>"
   ]
  },
  {
   "cell_type": "code",
   "execution_count": 1,
   "metadata": {
    "ExecuteTime": {
     "end_time": "2020-07-16T22:04:14.695411Z",
     "start_time": "2020-07-16T22:04:12.975450Z"
    }
   },
   "outputs": [],
   "source": [
    "import requests\n",
    "from bs4 import BeautifulSoup\n",
    "import pandas as pd\n",
    "import re\n",
    "from datetime import date, datetime\n",
    "from ast import literal_eval\n",
    "import matplotlib.pyplot as plt\n",
    "import seaborn as sns"
   ]
  },
  {
   "cell_type": "markdown",
   "metadata": {},
   "source": [
    "<b>API: COVID-19</b>"
   ]
  },
  {
   "cell_type": "code",
   "execution_count": 2,
   "metadata": {
    "ExecuteTime": {
     "end_time": "2020-07-16T22:04:16.630358Z",
     "start_time": "2020-07-16T22:04:14.697298Z"
    },
    "scrolled": true
   },
   "outputs": [
    {
     "name": "stdout",
     "output_type": "stream",
     "text": [
      "{\"status\":200,\"type\":\"collection\",\"elements\":178,\"data\":{\"2020-07-16\":{\"total_cases\":13970112,\"active_cases\":5082850,\"deaths\":591998,\"recovered\":8295264,\"critical\":59736,\"tested\":265996589,\"death_ratio\":0.04237603821644379,\"recovery_ratio\":0.5937865065076071},\"2020-07-15\":{\"total_cases\":13752395,\"active_cases\":5035184,\"deaths\":586843,\"recovered\":8130368,\"critical\":59470,\"tested\":262801756,\"death_ratio\":0.04267205821240591,\"recovery_ratio\":0.5911965152251663},\"2020-07-14\":{\"total_cases\":13529076,\"active_cases\":4989334,\"deaths\":581109,\"recovered\":7958633,\"critical\":59206,\"tested\":260452752,\"death_ratio\":0.04295260075410915,\"recovery_ratio\":0.588261386069529},\"2020-07-13\":{\"total_cases\":13309624,\"active_cases\":4951183,\"deaths\":575824,\"recovered\":7782617,\"critical\":58669,\"tested\":258351312,\"death_ratio\":0.04326373156747328,\"recovery_ratio\":0.5847360526488201},\"2020-07-12\":{\"total_cases\":13106689,\"active_cases\":4916159,\"deaths\":571823,\"recovered\":7618707,\"critical\":58722,\"tested\":254931077,\"death_ratio\":0.04362833359363299,\"recovery_ratio\":0.5812838772629761},\"2020-07-11\":{\"total_cases\":12914162,\"active_cases\":4831921,\"deaths\":567795,\"recovered\":7514446,\"critical\":58557,\"tested\":252903126,\"death_ratio\":0.0439668481779925,\"recovery_ratio\":0.5818763927539394},\"2020-07-10\":{\"total_cases\":12691752,\"active_cases\":4784698,\"deaths\":562666,\"recovered\":7344388,\"critical\":58600,\"tested\":250176646,\"death_ratio\":0.04433320159423222,\"recovery_ratio\":0.5786740869188115},\"2020-07-09\":{\"total_cases\":12455643,\"active_cases\":4700961,\"deaths\":557213,\"recovered\":7197469,\"critical\":4205943,\"tested\":247812179,\"death_ratio\":0.044735787626540034,\"recovery_ratio\":0.5778480484708818},\"2020-07-08\":{\"total_cases\":12230652,\"active_cases\":4649556,\"deaths\":551879,\"recovered\":7029217,\"critical\":4150470,\"tested\":244950297,\"death_ratio\":0.04512261488594394,\"recovery_ratio\":0.5747213639959668},\"2020-07-07\":{\"total_cases\":12015898,\"active_cases\":4593190,\"deaths\":546316,\"recovered\":6876392,\"critical\":4121707,\"tested\":242673020,\"death_ratio\":0.04546609833072817,\"recovery_ratio\":0.5722744983354553},\"2020-07-06\":{\"total_cases\":11806628,\"active_cases\":4559907,\"deaths\":540740,\"recovered\":6705981,\"critical\":4137614,\"tested\":239594434,\"death_ratio\":0.045799698271174465,\"recovery_ratio\":0.5679844406040404},\"2020-07-05\":{\"total_cases\":11619766,\"active_cases\":4499647,\"deaths\":537080,\"recovered\":6583039,\"critical\":4054722,\"tested\":237599016,\"death_ratio\":0.04622124059985373,\"recovery_ratio\":0.566538000851308},\"2020-07-04\":{\"total_cases\":11444321,\"active_cases\":4472153,\"deaths\":533501,\"recovered\":6438667,\"critical\":3982564,\"tested\":235414549,\"death_ratio\":0.04661709506400598,\"recovery_ratio\":0.5626080393935123},\"2020-07-03\":{\"total_cases\":11253210,\"active_cases\":4423307,\"deaths\":529049,\"recovered\":6300854,\"critical\":3989597,\"tested\":233651042,\"death_ratio\":0.0470131633551671,\"recovery_ratio\":0.5599161483701095},\"2020-07-02\":{\"total_cases\":11071689,\"active_cases\":4418397,\"deaths\":523667,\"recovered\":6129625,\"critical\":3894147,\"tested\":231377918,\"death_ratio\":0.047297842271400506,\"recovery_ratio\":0.5536305255684114},\"2020-07-01\":{\"total_cases\":10862089,\"active_cases\":4415126,\"deaths\":518592,\"recovered\":5928371,\"critical\":3891748,\"tested\":228985520,\"death_ratio\":0.047743302416321576,\"recovery_ratio\":0.5457855298368481},\"2020-06-30\":{\"total_cases\":10644324,\"active_cases\":4348726,\"deaths\":513755,\"recovered\":5781843,\"critical\":3826857,\"tested\":13487,\"death_ratio\":0.0482656296444941,\"recovery_ratio\":0.5431855512853611},\"2020-06-29\":{\"total_cases\":10469295,\"active_cases\":4318593,\"deaths\":508091,\"recovered\":5642611,\"critical\":3797663,\"tested\":13348,\"death_ratio\":0.04853153913420149,\"recovery_ratio\":0.5389676191185748},\"2020-06-28\":{\"total_cases\":10300647,\"active_cases\":4254852,\"deaths\":504560,\"recovered\":5541235,\"critical\":3736992,\"tested\":13260,\"death_ratio\":0.04898333085290662,\"recovery_ratio\":0.5379501889541501},\"2020-06-27\":{\"total_cases\":10139358,\"active_cases\":4192908,\"deaths\":501143,\"recovered\":5445307,\"critical\":3675931,\"tested\":13179,\"death_ratio\":0.04942551589558234,\"recovery_ratio\":0.5370465270089092},\"2020-06-26\":{\"total_cases\":9962919,\"active_cases\":4128196,\"deaths\":496553,\"recovered\":5338170,\"critical\":3612562,\"tested\":13084,\"death_ratio\":0.04984011211975125,\"recovery_ratio\":0.53580381412315},\"2020-06-25\":{\"total_cases\":9760423,\"active_cases\":4043049,\"deaths\":489557,\"recovered\":5227817,\"critical\":3515614,\"tested\":12984,\"death_ratio\":0.050157354860542416,\"recovery_ratio\":0.5356137741161423},\"2020-06-24\":{\"total_cases\":9580647,\"active_cases\":3973019,\"deaths\":484443,\"recovered\":5123185,\"critical\":3431677,\"tested\":12891,\"death_ratio\":0.050564747871412026,\"recovery_ratio\":0.5347431128607494},\"2020-06-23\":{\"total_cases\":9405579,\"active_cases\":3925623,\"deaths\":479420,\"recovered\":5000536,\"critical\":3393566,\"tested\":12786,\"death_ratio\":0.05097187530932439,\"recovery_ratio\":0.531656371181402},\"2020-06-22\":{\"total_cases\":9242581,\"active_cases\":3896564,\"deaths\":473982,\"recovered\":4872035,\"critical\":3368782,\"tested\":12703,\"death_ratio\":0.05128242857703925,\"recovery_ratio\":0.5271292726566313},\"2020-06-21\":{\"total_cases\":9099032,\"active_cases\":3839235,\"deaths\":470047,\"recovered\":4789750,\"critical\":3342357,\"tested\":12625,\"death_ratio\":0.0516590116399195,\"recovery_ratio\":0.52640214915169},\"2020-06-20\":{\"total_cases\":8967269,\"active_cases\":3777261,\"deaths\":466718,\"recovered\":4723290,\"critical\":3279574,\"tested\":12555,\"death_ratio\":0.05204683834063637,\"recovery_ratio\":0.5267255838985091},\"2020-06-19\":{\"total_cases\":8806758,\"active_cases\":3737829,\"deaths\":462231,\"recovered\":4606698,\"critical\":3238601,\"tested\":12469,\"death_ratio\":0.052485943181361405,\"recovery_ratio\":0.5230867022802261},\"2020-06-18\":{\"total_cases\":8625705,\"active_cases\":3679401,\"deaths\":455939,\"recovered\":4490365,\"critical\":3176115,\"tested\":12439,\"death_ratio\":0.05285817217259343,\"recovery_ratio\":0.5205794772717128},\"2020-06-17\":{\"total_cases\":8486449,\"active_cases\":3658579,\"deaths\":450888,\"recovered\":4376982,\"critical\":3138720,\"tested\":12253,\"death_ratio\":0.05313034933692526,\"recovery_ratio\":0.5157613036972236},\"2020-06-16\":{\"total_cases\":8308867,\"active_cases\":3587606,\"deaths\":445617,\"recovered\":4275644,\"critical\":3085267,\"tested\":12154,\"death_ratio\":0.05363149993855961,\"recovery_ratio\":0.5145880900488599},\"2020-06-15\":{\"total_cases\":8165681,\"active_cases\":3565729,\"deaths\":439014,\"recovered\":4160938,\"critical\":3061954,\"tested\":12046,\"death_ratio\":0.05376330522830858,\"recovery_ratio\":0.5095641135136187},\"2020-06-14\":{\"total_cases\":8039361,\"active_cases\":3514987,\"deaths\":435588,\"recovered\":4088786,\"critical\":3025848,\"tested\":11982,\"death_ratio\":0.05418191818976657,\"recovery_ratio\":0.5085958946239633},\"2020-06-13\":{\"total_cases\":7911846,\"active_cases\":3486381,\"deaths\":432178,\"recovered\":3993287,\"critical\":2990280,\"tested\":11903,\"death_ratio\":0.05462416735613913,\"recovery_ratio\":0.5047225388360693},\"2020-06-12\":{\"total_cases\":7781071,\"active_cases\":3434744,\"deaths\":428107,\"recovered\":3918220,\"critical\":2968117,\"tested\":11827,\"death_ratio\":0.055019032726985787,\"recovery_ratio\":0.5035579292362196},\"2020-06-11\":{\"total_cases\":7638257,\"active_cases\":3399330,\"deaths\":423489,\"recovered\":3815438,\"critical\":2917170,\"tested\":11745,\"death_ratio\":0.05544314625705839,\"recovery_ratio\":0.4995168400330075},\"2020-06-10\":{\"total_cases\":7499961,\"active_cases\":3349203,\"deaths\":418535,\"recovered\":3732223,\"critical\":2897254,\"tested\":11661,\"death_ratio\":0.0558049568524423,\"recovery_ratio\":0.49763232102140265},\"2020-06-09\":{\"total_cases\":7366262,\"active_cases\":3320029,\"deaths\":413390,\"recovered\":3632843,\"critical\":2898517,\"tested\":11595,\"death_ratio\":0.05611937234923221,\"recovery_ratio\":0.49317319964997175},\"2020-06-08\":{\"total_cases\":7243436,\"active_cases\":3335601,\"deaths\":408613,\"recovered\":3499222,\"critical\":2847610,\"tested\":11491,\"death_ratio\":0.05641148758683034,\"recovery_ratio\":0.4830886888487729},\"2020-06-07\":{\"total_cases\":7135746,\"active_cases\":3311674,\"deaths\":405462,\"recovered\":3418610,\"critical\":2822276,\"tested\":11427,\"death_ratio\":0.05682124896261722,\"recovery_ratio\":0.4790823552295724},\"2020-06-06\":{\"total_cases\":7018765,\"active_cases\":3252230,\"deaths\":401969,\"recovered\":3364566,\"critical\":2761224,\"tested\":11334,\"death_ratio\":0.05727061669681205,\"recovery_ratio\":0.47936723910830464},\"2020-06-05\":{\"total_cases\":6879780,\"active_cases\":3213499,\"deaths\":397796,\"recovered\":3268485,\"critical\":2720523,\"tested\":11271,\"death_ratio\":0.057821034974955596,\"recovery_ratio\":0.47508568587949035},\"2020-06-04\":{\"total_cases\":6741569,\"active_cases\":3168993,\"deaths\":392516,\"recovered\":3180060,\"critical\":2675699,\"tested\":11192,\"death_ratio\":0.05822324150357283,\"recovery_ratio\":0.4717091822393274},\"2020-06-03\":{\"total_cases\":6576556,\"active_cases\":3079323,\"deaths\":387117,\"recovered\":3110116,\"critical\":2626972,\"tested\":11125,\"death_ratio\":0.058863180059593505,\"recovery_ratio\":0.4729095289388549},\"2020-06-02\":{\"total_cases\":6487962,\"active_cases\":3168041,\"deaths\":382083,\"recovered\":2937852,\"critical\":2720302,\"tested\":11051,\"death_ratio\":0.05889106625470371,\"recovery_ratio\":0.4528158457154959},\"2020-06-01\":{\"total_cases\":6376169,\"active_cases\":3092225,\"deaths\":377515,\"recovered\":2906442,\"critical\":51823,\"tested\":78255465,\"death_ratio\":0.05920718224375797,\"recovery_ratio\":0.4558288840838441},\"2020-05-31\":{\"total_cases\":6273436,\"active_cases\":3107789,\"deaths\":374052,\"recovered\":2791608,\"critical\":51841,\"tested\":76746569,\"death_ratio\":0.059624741529203454,\"recovery_ratio\":0.44498867925009516},\"2020-05-30\":{\"total_cases\":6163370,\"active_cases\":3056690,\"deaths\":370861,\"recovered\":2735829,\"critical\":51924,\"tested\":74763854,\"death_ratio\":0.06017178913484019,\"recovery_ratio\":0.4438852445983285},\"2020-05-29\":{\"total_cases\":6039230,\"active_cases\":3010616,\"deaths\":366774,\"recovered\":2661840,\"critical\":52155,\"tested\":73127957,\"death_ratio\":0.06073191449903382,\"recovery_ratio\":0.44075817612510204},\"2020-05-28\":{\"total_cases\":5913395,\"active_cases\":2968416,\"deaths\":362164,\"recovered\":2582815,\"critical\":51289,\"tested\":71551212,\"death_ratio\":0.06124468262309553,\"recovery_ratio\":0.4367736300382437},\"2020-05-27\":{\"total_cases\":5794183,\"active_cases\":2938511,\"deaths\":357201,\"recovered\":2498471,\"critical\":51394,\"tested\":70049294,\"death_ratio\":0.06164820821158048,\"recovery_ratio\":0.4312033292700628},\"2020-05-26\":{\"total_cases\":5688775,\"active_cases\":2905503,\"deaths\":351972,\"recovered\":2431300,\"critical\":51520,\"tested\":68219362,\"death_ratio\":0.06187131675975935,\"recovery_ratio\":0.42738550918255686},\"2020-05-25\":{\"total_cases\":5594296,\"active_cases\":2880119,\"deaths\":347951,\"recovered\":2366229,\"critical\":51592,\"tested\":66972579,\"death_ratio\":0.06219745969823549,\"recovery_ratio\":0.42297171976599024},\"2020-05-24\":{\"total_cases\":5503206,\"active_cases\":2852184,\"deaths\":346725,\"recovered\":2304301,\"critical\":51649,\"tested\":65513740,\"death_ratio\":0.06300418337965179,\"recovery_ratio\":0.4187197426372918},\"2020-05-23\":{\"total_cases\":5409274,\"active_cases\":2815541,\"deaths\":343960,\"recovered\":2249775,\"critical\":51978,\"tested\":63640390,\"death_ratio\":0.06358709135458844,\"recovery_ratio\":0.415910711862627},\"2020-05-22\":{\"total_cases\":5308907,\"active_cases\":2813730,\"deaths\":339772,\"recovered\":2155405,\"critical\":42999,\"tested\":62060668,\"death_ratio\":0.0640003676839696,\"recovery_ratio\":0.40599788242664636},\"2020-05-21\":{\"total_cases\":5199790,\"active_cases\":2781883,\"deaths\":334424,\"recovered\":2083483,\"critical\":44060,\"tested\":60522732,\"death_ratio\":0.06431490502501062,\"recovery_ratio\":0.4006859892418732},\"2020-05-20\":{\"total_cases\":5090642,\"active_cases\":2736197,\"deaths\":329550,\"recovered\":2024895,\"critical\":44223,\"tested\":60149759,\"death_ratio\":0.06473643206495369,\"recovery_ratio\":0.3977681007621436},\"2020-05-19\":{\"total_cases\":4991285,\"active_cases\":2705411,\"deaths\":324735,\"recovered\":1961139,\"critical\":43865,\"tested\":57144730,\"death_ratio\":0.065060400277684,\"recovery_ratio\":0.39291264674327353},\"2020-05-18\":{\"total_cases\":4897289,\"active_cases\":2668700,\"deaths\":320292,\"recovered\":1908297,\"critical\":43139,\"tested\":55858471,\"death_ratio\":0.06540189888732317,\"recovery_ratio\":0.3896639548942282},\"2020-05-17\":{\"total_cases\":4710614,\"active_cases\":2663247,\"deaths\":315023,\"recovered\":1732344,\"critical\":0,\"tested\":0,\"death_ratio\":0.06687514621236212,\"recovery_ratio\":0.3677533332172834},\"2020-05-16\":{\"total_cases\":4629575,\"active_cases\":2626537,\"deaths\":311425,\"recovered\":1691613,\"critical\":0,\"tested\":0,\"death_ratio\":0.06726859376940648,\"recovery_ratio\":0.3653927196340917},\"2020-05-15\":{\"total_cases\":4534673,\"active_cases\":2594380,\"deaths\":307108,\"recovered\":1633185,\"critical\":0,\"tested\":0,\"death_ratio\":0.06772439820908806,\"recovery_ratio\":0.36015496596998287},\"2020-05-14\":{\"total_cases\":4529970,\"active_cases\":2522109,\"deaths\":303392,\"recovered\":1704469,\"critical\":43935,\"tested\":49545002,\"death_ratio\":0.06697439497391815,\"recovery_ratio\":0.3762649642271362},\"2020-05-13\":{\"total_cases\":4434081,\"active_cases\":2476679,\"deaths\":298060,\"recovered\":1659342,\"critical\":44314,\"tested\":48284286,\"death_ratio\":0.06722024248091092,\"recovery_ratio\":0.3742245574674887},\"2020-05-12\":{\"total_cases\":4345807,\"active_cases\":2452512,\"deaths\":292715,\"recovered\":1600580,\"critical\":44746,\"tested\":46598473,\"death_ratio\":0.06735572932714223,\"recovery_ratio\":0.3683044368974508},\"2020-05-11\":{\"total_cases\":4259749,\"active_cases\":2443223,\"deaths\":287319,\"recovered\":1529207,\"critical\":45341,\"tested\":45124441,\"death_ratio\":0.06744974879975323,\"recovery_ratio\":0.35898993109687916},\"2020-05-10\":{\"total_cases\":4185811,\"active_cases\":2410432,\"deaths\":284017,\"recovered\":1491362,\"critical\":45401,\"tested\":44150347,\"death_ratio\":0.06785232300263916,\"recovery_ratio\":0.3562898563743083},\"2020-05-09\":{\"total_cases\":4106424,\"active_cases\":2387593,\"deaths\":280539,\"recovered\":1438292,\"critical\":46089,\"tested\":42803474,\"death_ratio\":0.0683171051016651,\"recovery_ratio\":0.35025413839389213},\"2020-05-08\":{\"total_cases\":4018183,\"active_cases\":2360351,\"deaths\":276261,\"recovered\":1381571,\"critical\":47045,\"tested\":41027993,\"death_ratio\":0.06875271733517363,\"recovery_ratio\":0.3438297857514205},\"2020-05-07\":{\"total_cases\":3920658,\"active_cases\":2305547,\"deaths\":270681,\"recovered\":1344430,\"critical\":47343,\"tested\":40008009,\"death_ratio\":0.06903968670564992,\"recovery_ratio\":0.3429092769632036},\"2020-05-06\":{\"total_cases\":3821068,\"active_cases\":2260717,\"deaths\":264471,\"recovered\":1295880,\"critical\":46586,\"tested\":38405473,\"death_ratio\":0.06921389517276322,\"recovery_ratio\":0.3391407847230146},\"2020-05-05\":{\"total_cases\":3731522,\"active_cases\":2230482,\"deaths\":258318,\"recovered\":1242722,\"critical\":47704,\"tested\":37048644,\"death_ratio\":0.06922590835589339,\"recovery_ratio\":0.33303354502532745},\"2020-05-04\":{\"total_cases\":3649233,\"active_cases\":2200146,\"deaths\":252302,\"recovered\":1196785,\"critical\":48012,\"tested\":36069275,\"death_ratio\":0.06913836414391737,\"recovery_ratio\":0.3279552168907823},\"2020-05-03\":{\"total_cases\":3569971,\"active_cases\":2163714,\"deaths\":248395,\"recovered\":1157862,\"critical\":48429,\"tested\":36146196,\"death_ratio\":0.06957899658008426,\"recovery_ratio\":0.3243337270806962},\"2020-05-02\":{\"total_cases\":3487196,\"active_cases\":2116716,\"deaths\":244883,\"recovered\":1125597,\"critical\":49250,\"tested\":34629735,\"death_ratio\":0.07022346894180884,\"recovery_ratio\":0.32277996418899313},\"2020-05-01\":{\"total_cases\":3405626,\"active_cases\":2080267,\"deaths\":239758,\"recovered\":1085601,\"critical\":49721,\"tested\":33554880,\"death_ratio\":0.07040056659186887,\"recovery_ratio\":0.31876694622368984},\"2020-04-30\":{\"total_cases\":3311244,\"active_cases\":2034630,\"deaths\":234144,\"recovered\":1042470,\"critical\":49348,\"tested\":31779192,\"death_ratio\":0.07071179290925103,\"recovery_ratio\":0.31482729753530697},\"2020-04-29\":{\"total_cases\":3223419,\"active_cases\":1992732,\"deaths\":228247,\"recovered\":1002440,\"critical\":58198,\"tested\":30343520,\"death_ratio\":0.07080897643154675,\"recovery_ratio\":0.31098656426607896},\"2020-04-28\":{\"total_cases\":3145779,\"active_cases\":1971634,\"deaths\":218077,\"recovered\":956068,\"critical\":55693,\"tested\":28699701,\"death_ratio\":0.0693236873918988,\"recovery_ratio\":0.30392090480609096},\"2020-04-27\":{\"total_cases\":3065838,\"active_cases\":1931662,\"deaths\":211520,\"recovered\":922656,\"critical\":54667,\"tested\":27613895,\"death_ratio\":0.06899255603198864,\"recovery_ratio\":0.30094740818008},\"2020-04-26\":{\"total_cases\":2992639,\"active_cases\":1909096,\"deaths\":206883,\"recovered\":876660,\"critical\":57591,\"tested\":27961947,\"death_ratio\":0.06913062350654389,\"recovery_ratio\":0.2929387741053966},\"2020-04-25\":{\"total_cases\":2915600,\"active_cases\":1878738,\"deaths\":203042,\"recovered\":833820,\"critical\":58178,\"tested\":26828389,\"death_ratio\":0.06963986829469063,\"recovery_ratio\":0.28598573192481824},\"2020-04-24\":{\"total_cases\":2826673,\"active_cases\":1849069,\"deaths\":196972,\"recovered\":780632,\"critical\":58386,\"tested\":25543069,\"death_ratio\":0.0696833344359252,\"recovery_ratio\":0.2761663623631032},\"2020-04-23\":{\"total_cases\":2714995,\"active_cases\":1780231,\"deaths\":190397,\"recovered\":744367,\"critical\":58678,\"tested\":24236250,\"death_ratio\":0.07012793762051127,\"recovery_ratio\":0.2741688290402008},\"2020-04-22\":{\"total_cases\":2639911,\"active_cases\":1735572,\"deaths\":184155,\"recovered\":720184,\"critical\":0,\"tested\":0,\"death_ratio\":0.06975803350946301,\"recovery_ratio\":0.27280616657152457},\"2020-04-21\":{\"total_cases\":2567422,\"active_cases\":1699045,\"deaths\":177520,\"recovered\":690857,\"critical\":0,\"tested\":0,\"death_ratio\":0.0691432884815975,\"recovery_ratio\":0.269085876805605},\"2020-04-20\":{\"total_cases\":2485478,\"active_cases\":1666899,\"deaths\":170488,\"recovered\":648091,\"critical\":0,\"tested\":0,\"death_ratio\":0.06859364677538887,\"recovery_ratio\":0.2607510507033255},\"2020-04-19\":{\"total_cases\":2411168,\"active_cases\":1618939,\"deaths\":165206,\"recovered\":627023,\"critical\":0,\"tested\":0,\"death_ratio\":0.06851700088919561,\"recovery_ratio\":0.26004948638999853},\"2020-04-18\":{\"total_cases\":2334354,\"active_cases\":1576149,\"deaths\":160609,\"recovered\":597596,\"critical\":0,\"tested\":0,\"death_ratio\":0.06880233246542726,\"recovery_ratio\":0.2560005894564406},\"2020-04-17\":{\"total_cases\":2255135,\"active_cases\":1528462,\"deaths\":154293,\"recovered\":572380,\"critical\":0,\"tested\":0,\"death_ratio\":0.06841852039900051,\"recovery_ratio\":0.2538118560529636},\"2020-04-16\":{\"total_cases\":2185377,\"active_cases\":1491280,\"deaths\":145595,\"recovered\":548502,\"critical\":0,\"tested\":0,\"death_ratio\":0.06662237224973082,\"recovery_ratio\":0.2509873582452822},\"2020-04-15\":{\"total_cases\":2082277,\"active_cases\":1432837,\"deaths\":134484,\"recovered\":514956,\"critical\":0,\"tested\":0,\"death_ratio\":0.06458506721247942,\"recovery_ratio\":0.24730427315866238},\"2020-04-14\":{\"total_cases\":1999607,\"active_cases\":1395295,\"deaths\":126622,\"recovered\":477690,\"critical\":0,\"tested\":0,\"death_ratio\":0.06332344305656061,\"recovery_ratio\":0.2388919422666554},\"2020-04-13\":{\"total_cases\":2024714,\"active_cases\":1452708,\"deaths\":119683,\"recovered\":452323,\"critical\":0,\"tested\":0,\"death_ratio\":0.059111064575046154,\"recovery_ratio\":0.2234009346505235},\"2020-04-12\":{\"total_cases\":1505331,\"active_cases\":1080364,\"deaths\":92519,\"recovered\":332448,\"critical\":0,\"tested\":0,\"death_ratio\":0.06146090129014815,\"recovery_ratio\":0.22084710937328733},\"2020-04-11\":{\"total_cases\":1771514,\"active_cases\":1260901,\"deaths\":108503,\"recovered\":402110,\"critical\":0,\"tested\":0,\"death_ratio\":0.061248739778517136,\"recovery_ratio\":0.22698663403168137},\"2020-04-10\":{\"total_cases\":1691719,\"active_cases\":1213098,\"deaths\":102525,\"recovered\":376096,\"critical\":0,\"tested\":0,\"death_ratio\":0.060604036485964866,\"recovery_ratio\":0.22231588106535424},\"2020-04-09\":{\"total_cases\":1595350,\"active_cases\":1145920,\"deaths\":95455,\"recovered\":353975,\"critical\":0,\"tested\":0,\"death_ratio\":0.05983326542764911,\"recovery_ratio\":0.2218792114583007},\"2020-04-08\":{\"total_cases\":1511104,\"active_cases\":1094105,\"deaths\":88338,\"recovered\":328661,\"critical\":0,\"tested\":0,\"death_ratio\":0.05845924569056796,\"recovery_ratio\":0.21749727351658124},\"2020-04-07\":{\"total_cases\":1426096,\"active_cases\":1044177,\"deaths\":81865,\"recovered\":300054,\"critical\":0,\"tested\":0,\"death_ratio\":0.05740497133432813,\"recovery_ratio\":0.21040238525316668},\"2020-04-06\":{\"total_cases\":1345048,\"active_cases\":993968,\"deaths\":74565,\"recovered\":276515,\"critical\":0,\"tested\":0,\"death_ratio\":0.055436683300521615,\"recovery_ratio\":0.20558002390992738},\"2020-04-05\":{\"total_cases\":1272115,\"active_cases\":1202741,\"deaths\":69374,\"recovered\":69374,\"critical\":0,\"tested\":0,\"death_ratio\":0.05453437778817167,\"recovery_ratio\":0.05453437778817167},\"2020-04-04\":{\"total_cases\":1197405,\"active_cases\":1132799,\"deaths\":64606,\"recovered\":64606,\"critical\":0,\"tested\":0,\"death_ratio\":0.05395501104471753,\"recovery_ratio\":0.05395501104471753},\"2020-04-03\":{\"total_cases\":1095917,\"active_cases\":1037130,\"deaths\":58787,\"recovered\":58787,\"critical\":0,\"tested\":0,\"death_ratio\":0.05364183601495369,\"recovery_ratio\":0.05364183601495369},\"2020-04-02\":{\"total_cases\":1013157,\"active_cases\":960174,\"deaths\":52983,\"recovered\":52983,\"critical\":0,\"tested\":0,\"death_ratio\":0.052294955273466996,\"recovery_ratio\":0.052294955273466996},\"2020-04-01\":{\"total_cases\":932605,\"active_cases\":885796,\"deaths\":46809,\"recovered\":46809,\"critical\":0,\"tested\":0,\"death_ratio\":0.050191667426187934,\"recovery_ratio\":0.050191667426187934},\"2020-03-31\":{\"total_cases\":857487,\"active_cases\":815380,\"deaths\":42107,\"recovered\":42107,\"critical\":0,\"tested\":0,\"death_ratio\":0.04910511762860545,\"recovery_ratio\":0.04910511762860545},\"2020-03-30\":{\"total_cases\":782365,\"active_cases\":744783,\"deaths\":37582,\"recovered\":37582,\"critical\":0,\"tested\":0,\"death_ratio\":0.048036402446428456,\"recovery_ratio\":0.048036402446428456},\"2020-03-29\":{\"total_cases\":720117,\"active_cases\":686192,\"deaths\":33925,\"recovered\":33925,\"critical\":0,\"tested\":0,\"death_ratio\":0.04711040011553678,\"recovery_ratio\":0.04711040011553678},\"2020-03-28\":{\"total_cases\":660706,\"active_cases\":630054,\"deaths\":30652,\"recovered\":30652,\"critical\":0,\"tested\":0,\"death_ratio\":0.046392798006980415,\"recovery_ratio\":0.046392798006980415},\"2020-03-27\":{\"total_cases\":593291,\"active_cases\":566093,\"deaths\":27198,\"recovered\":27198,\"critical\":0,\"tested\":0,\"death_ratio\":0.04584259663470371,\"recovery_ratio\":0.04584259663470371},\"2020-03-26\":{\"total_cases\":529591,\"active_cases\":505621,\"deaths\":23970,\"recovered\":23970,\"critical\":0,\"tested\":0,\"death_ratio\":0.04526134318747864,\"recovery_ratio\":0.04526134318747864},\"2020-03-25\":{\"total_cases\":467653,\"active_cases\":446472,\"deaths\":21181,\"recovered\":21181,\"critical\":0,\"tested\":0,\"death_ratio\":0.045292128993078204,\"recovery_ratio\":0.045292128993078204},\"2020-03-24\":{\"total_cases\":418045,\"active_cases\":399420,\"deaths\":18625,\"recovered\":18625,\"critical\":0,\"tested\":0,\"death_ratio\":0.044552619933260776,\"recovery_ratio\":0.044552619933260776},\"2020-03-23\":{\"total_cases\":378235,\"active_cases\":361730,\"deaths\":16505,\"recovered\":16505,\"critical\":0,\"tested\":0,\"death_ratio\":0.04363689240815895,\"recovery_ratio\":0.04363689240815895},\"2020-03-22\":{\"total_cases\":336953,\"active_cases\":322302,\"deaths\":14651,\"recovered\":14651,\"critical\":0,\"tested\":0,\"death_ratio\":0.04348084154169869,\"recovery_ratio\":0.04348084154169869},\"2020-03-21\":{\"total_cases\":304396,\"active_cases\":291423,\"deaths\":12973,\"recovered\":12973,\"critical\":0,\"tested\":0,\"death_ratio\":0.04261882547733873,\"recovery_ratio\":0.04261882547733873},\"2020-03-20\":{\"total_cases\":272035,\"active_cases\":260736,\"deaths\":11299,\"recovered\":11299,\"critical\":0,\"tested\":0,\"death_ratio\":0.041535096586836254,\"recovery_ratio\":0.041535096586836254},\"2020-03-19\":{\"total_cases\":242500,\"active_cases\":232633,\"deaths\":9867,\"recovered\":9867,\"critical\":0,\"tested\":0,\"death_ratio\":0.04068865979381443,\"recovery_ratio\":0.04068865979381443},\"2020-03-18\":{\"total_cases\":214821,\"active_cases\":206088,\"deaths\":8733,\"recovered\":8733,\"critical\":0,\"tested\":0,\"death_ratio\":0.04065245017945173,\"recovery_ratio\":0.04065245017945173},\"2020-03-17\":{\"total_cases\":197102,\"active_cases\":189197,\"deaths\":7905,\"recovered\":7905,\"critical\":0,\"tested\":0,\"death_ratio\":0.04010613793873223,\"recovery_ratio\":0.04010613793873223},\"2020-03-16\":{\"total_cases\":181574,\"active_cases\":174448,\"deaths\":7126,\"recovered\":7126,\"critical\":0,\"tested\":0,\"death_ratio\":0.039245706984480155,\"recovery_ratio\":0.039245706984480155},\"2020-03-15\":{\"total_cases\":167454,\"active_cases\":161014,\"deaths\":6440,\"recovered\":6440,\"critical\":0,\"tested\":0,\"death_ratio\":0.038458322882702116,\"recovery_ratio\":0.038458322882702116},\"2020-03-14\":{\"total_cases\":156101,\"active_cases\":150282,\"deaths\":5819,\"recovered\":5819,\"critical\":0,\"tested\":0,\"death_ratio\":0.03727714748784441,\"recovery_ratio\":0.03727714748784441},\"2020-03-13\":{\"total_cases\":145205,\"active_cases\":139801,\"deaths\":5404,\"recovered\":5404,\"critical\":0,\"tested\":0,\"death_ratio\":0.03721634929926655,\"recovery_ratio\":0.03721634929926655},\"2020-03-12\":{\"total_cases\":128352,\"active_cases\":123632,\"deaths\":4720,\"recovered\":4720,\"critical\":0,\"tested\":0,\"death_ratio\":0.03677387185240588,\"recovery_ratio\":0.03677387185240588},\"2020-03-11\":{\"total_cases\":125875,\"active_cases\":121260,\"deaths\":4615,\"recovered\":4615,\"critical\":0,\"tested\":0,\"death_ratio\":0.03666335650446872,\"recovery_ratio\":0.03666335650446872},\"2020-03-10\":{\"total_cases\":118620,\"active_cases\":114358,\"deaths\":4262,\"recovered\":4262,\"critical\":0,\"tested\":0,\"death_ratio\":0.035929860057325916,\"recovery_ratio\":0.035929860057325916},\"2020-03-09\":{\"total_cases\":113590,\"active_cases\":109602,\"deaths\":3988,\"recovered\":3988,\"critical\":0,\"tested\":0,\"death_ratio\":0.03510872435953869,\"recovery_ratio\":0.03510872435953869},\"2020-03-08\":{\"total_cases\":109821,\"active_cases\":106019,\"deaths\":3802,\"recovered\":3802,\"critical\":0,\"tested\":0,\"death_ratio\":0.03461997250070569,\"recovery_ratio\":0.03461997250070569},\"2020-03-07\":{\"total_cases\":105847,\"active_cases\":102289,\"deaths\":3558,\"recovered\":3558,\"critical\":0,\"tested\":0,\"death_ratio\":0.033614556860373936,\"recovery_ratio\":0.033614556860373936},\"2020-03-06\":{\"total_cases\":101801,\"active_cases\":98341,\"deaths\":3460,\"recovered\":3460,\"critical\":0,\"tested\":0,\"death_ratio\":0.03398787831160794,\"recovery_ratio\":0.03398787831160794},\"2020-03-05\":{\"total_cases\":97886,\"active_cases\":94538,\"deaths\":3348,\"recovered\":3348,\"critical\":0,\"tested\":0,\"death_ratio\":0.03420305253049466,\"recovery_ratio\":0.03420305253049466},\"2020-03-04\":{\"total_cases\":95120,\"active_cases\":91866,\"deaths\":3254,\"recovered\":3254,\"critical\":0,\"tested\":0,\"death_ratio\":0.0342094196804037,\"recovery_ratio\":0.0342094196804037},\"2020-03-03\":{\"total_cases\":92840,\"active_cases\":89680,\"deaths\":3160,\"recovered\":3160,\"critical\":0,\"tested\":0,\"death_ratio\":0.034037052994398964,\"recovery_ratio\":0.034037052994398964},\"2020-03-02\":{\"total_cases\":90306,\"active_cases\":87221,\"deaths\":3085,\"recovered\":3085,\"critical\":0,\"tested\":0,\"death_ratio\":0.03416162824175581,\"recovery_ratio\":0.03416162824175581},\"2020-03-01\":{\"total_cases\":88369,\"active_cases\":85373,\"deaths\":2996,\"recovered\":2996,\"critical\":0,\"tested\":0,\"death_ratio\":0.03390329187837364,\"recovery_ratio\":0.03390329187837364},\"2020-02-29\":{\"total_cases\":86011,\"active_cases\":83070,\"deaths\":2941,\"recovered\":2941,\"critical\":0,\"tested\":0,\"death_ratio\":0.03419330085686714,\"recovery_ratio\":0.03419330085686714},\"2020-02-28\":{\"total_cases\":84112,\"active_cases\":81240,\"deaths\":2872,\"recovered\":2872,\"critical\":0,\"tested\":0,\"death_ratio\":0.034144949591021496,\"recovery_ratio\":0.034144949591021496},\"2020-02-27\":{\"total_cases\":82746,\"active_cases\":79932,\"deaths\":2814,\"recovered\":2814,\"critical\":0,\"tested\":0,\"death_ratio\":0.034007686172141255,\"recovery_ratio\":0.034007686172141255},\"2020-02-26\":{\"total_cases\":81388,\"active_cases\":78618,\"deaths\":2770,\"recovered\":2770,\"critical\":0,\"tested\":0,\"death_ratio\":0.03403450140069789,\"recovery_ratio\":0.03403450140069789},\"2020-02-25\":{\"total_cases\":80406,\"active_cases\":77698,\"deaths\":2708,\"recovered\":2708,\"critical\":0,\"tested\":0,\"death_ratio\":0.03367907867572072,\"recovery_ratio\":0.03367907867572072},\"2020-02-24\":{\"total_cases\":79561,\"active_cases\":76932,\"deaths\":2629,\"recovered\":2629,\"critical\":0,\"tested\":0,\"death_ratio\":0.03304382800618393,\"recovery_ratio\":0.03304382800618393},\"2020-02-23\":{\"total_cases\":78958,\"active_cases\":76489,\"deaths\":2469,\"recovered\":2469,\"critical\":0,\"tested\":0,\"death_ratio\":0.03126978900174777,\"recovery_ratio\":0.03126978900174777},\"2020-02-22\":{\"total_cases\":78572,\"active_cases\":76114,\"deaths\":2458,\"recovered\":2458,\"critical\":0,\"tested\":0,\"death_ratio\":0.03128340884793565,\"recovery_ratio\":0.03128340884793565},\"2020-02-21\":{\"total_cases\":76819,\"active_cases\":74568,\"deaths\":2251,\"recovered\":2251,\"critical\":0,\"tested\":0,\"death_ratio\":0.029302646480688373,\"recovery_ratio\":0.029302646480688373},\"2020-02-20\":{\"total_cases\":76197,\"active_cases\":73950,\"deaths\":2247,\"recovered\":2247,\"critical\":0,\"tested\":0,\"death_ratio\":0.02948934997440844,\"recovery_ratio\":0.02948934997440844},\"2020-02-19\":{\"total_cases\":75639,\"active_cases\":73517,\"deaths\":2122,\"recovered\":2122,\"critical\":0,\"tested\":0,\"death_ratio\":0.028054310606962018,\"recovery_ratio\":0.028054310606962018},\"2020-02-18\":{\"total_cases\":75136,\"active_cases\":73129,\"deaths\":2007,\"recovered\":2007,\"critical\":0,\"tested\":0,\"death_ratio\":0.026711563032367974,\"recovery_ratio\":0.026711563032367974},\"2020-02-17\":{\"total_cases\":73258,\"active_cases\":71390,\"deaths\":1868,\"recovered\":1868,\"critical\":0,\"tested\":0,\"death_ratio\":0.02549892161948183,\"recovery_ratio\":0.02549892161948183},\"2020-02-16\":{\"total_cases\":71224,\"active_cases\":69454,\"deaths\":1770,\"recovered\":1770,\"critical\":0,\"tested\":0,\"death_ratio\":0.024851173761653376,\"recovery_ratio\":0.024851173761653376},\"2020-02-15\":{\"total_cases\":69030,\"active_cases\":67364,\"deaths\":1666,\"recovered\":1666,\"critical\":0,\"tested\":0,\"death_ratio\":0.02413443430392583,\"recovery_ratio\":0.02413443430392583},\"2020-02-14\":{\"total_cases\":66885,\"active_cases\":65362,\"deaths\":1523,\"recovered\":1523,\"critical\":0,\"tested\":0,\"death_ratio\":0.022770426852059506,\"recovery_ratio\":0.022770426852059506},\"2020-02-13\":{\"total_cases\":60368,\"active_cases\":58997,\"deaths\":1371,\"recovered\":1371,\"critical\":0,\"tested\":0,\"death_ratio\":0.022710707659687253,\"recovery_ratio\":0.022710707659687253},\"2020-02-12\":{\"total_cases\":45221,\"active_cases\":44103,\"deaths\":1118,\"recovered\":1118,\"critical\":0,\"tested\":0,\"death_ratio\":0.02472302691227527,\"recovery_ratio\":0.02472302691227527},\"2020-02-11\":{\"total_cases\":44802,\"active_cases\":43689,\"deaths\":1113,\"recovered\":1113,\"critical\":0,\"tested\":0,\"death_ratio\":0.02484264095352886,\"recovery_ratio\":0.02484264095352886},\"2020-02-10\":{\"total_cases\":42762,\"active_cases\":41749,\"deaths\":1013,\"recovered\":1013,\"critical\":0,\"tested\":0,\"death_ratio\":0.023689256816799963,\"recovery_ratio\":0.023689256816799963},\"2020-02-09\":{\"total_cases\":40150,\"active_cases\":39244,\"deaths\":906,\"recovered\":906,\"critical\":0,\"tested\":0,\"death_ratio\":0.0225653798256538,\"recovery_ratio\":0.0225653798256538},\"2020-02-08\":{\"total_cases\":37120,\"active_cases\":36314,\"deaths\":806,\"recovered\":806,\"critical\":0,\"tested\":0,\"death_ratio\":0.021713362068965517,\"recovery_ratio\":0.021713362068965517},\"2020-02-07\":{\"total_cases\":34391,\"active_cases\":33672,\"deaths\":719,\"recovered\":719,\"critical\":0,\"tested\":0,\"death_ratio\":0.020906632549213457,\"recovery_ratio\":0.020906632549213457},\"2020-02-06\":{\"total_cases\":30794,\"active_cases\":30160,\"deaths\":634,\"recovered\":634,\"critical\":0,\"tested\":0,\"death_ratio\":0.020588426316814963,\"recovery_ratio\":0.020588426316814963},\"2020-02-05\":{\"total_cases\":27635,\"active_cases\":27071,\"deaths\":564,\"recovered\":564,\"critical\":0,\"tested\":0,\"death_ratio\":0.020408901755020806,\"recovery_ratio\":0.020408901755020806},\"2020-02-04\":{\"total_cases\":23892,\"active_cases\":23400,\"deaths\":492,\"recovered\":492,\"critical\":0,\"tested\":0,\"death_ratio\":0.02059266700150678,\"recovery_ratio\":0.02059266700150678},\"2020-02-03\":{\"total_cases\":19881,\"active_cases\":19455,\"deaths\":426,\"recovered\":426,\"critical\":0,\"tested\":0,\"death_ratio\":0.02142749358684171,\"recovery_ratio\":0.02142749358684171},\"2020-02-02\":{\"total_cases\":16787,\"active_cases\":16425,\"deaths\":362,\"recovered\":362,\"critical\":0,\"tested\":0,\"death_ratio\":0.021564305712753917,\"recovery_ratio\":0.021564305712753917},\"2020-02-01\":{\"total_cases\":12038,\"active_cases\":11779,\"deaths\":259,\"recovered\":259,\"critical\":0,\"tested\":0,\"death_ratio\":0.021515201860774213,\"recovery_ratio\":0.021515201860774213},\"2020-01-31\":{\"total_cases\":9927,\"active_cases\":9714,\"deaths\":213,\"recovered\":213,\"critical\":0,\"tested\":0,\"death_ratio\":0.021456633423995165,\"recovery_ratio\":0.021456633423995165},\"2020-01-30\":{\"total_cases\":8234,\"active_cases\":8063,\"deaths\":171,\"recovered\":171,\"critical\":0,\"tested\":0,\"death_ratio\":0.020767549186300704,\"recovery_ratio\":0.020767549186300704},\"2020-01-29\":{\"total_cases\":6166,\"active_cases\":6033,\"deaths\":133,\"recovered\":133,\"critical\":0,\"tested\":0,\"death_ratio\":0.021569899448589037,\"recovery_ratio\":0.021569899448589037},\"2020-01-28\":{\"total_cases\":5578,\"active_cases\":5447,\"deaths\":131,\"recovered\":131,\"critical\":0,\"tested\":0,\"death_ratio\":0.023485120114736465,\"recovery_ratio\":0.023485120114736465},\"2020-01-27\":{\"total_cases\":2927,\"active_cases\":2845,\"deaths\":82,\"recovered\":82,\"critical\":0,\"tested\":0,\"death_ratio\":0.02801503245644004,\"recovery_ratio\":0.02801503245644004},\"2020-01-26\":{\"total_cases\":2118,\"active_cases\":2062,\"deaths\":56,\"recovered\":56,\"critical\":0,\"tested\":0,\"death_ratio\":0.02644003777148253,\"recovery_ratio\":0.02644003777148253},\"2020-01-25\":{\"total_cases\":1434,\"active_cases\":1392,\"deaths\":42,\"recovered\":42,\"critical\":0,\"tested\":0,\"death_ratio\":0.029288702928870293,\"recovery_ratio\":0.029288702928870293},\"2020-01-24\":{\"total_cases\":941,\"active_cases\":915,\"deaths\":26,\"recovered\":26,\"critical\":0,\"tested\":0,\"death_ratio\":0.02763018065887354,\"recovery_ratio\":0.02763018065887354},\"2020-01-23\":{\"total_cases\":654,\"active_cases\":636,\"deaths\":18,\"recovered\":18,\"critical\":0,\"tested\":0,\"death_ratio\":0.027522935779816515,\"recovery_ratio\":0.027522935779816515},\"2020-01-22\":{\"total_cases\":555,\"active_cases\":538,\"deaths\":17,\"recovered\":17,\"critical\":0,\"tested\":0,\"death_ratio\":0.03063063063063063,\"recovery_ratio\":0.03063063063063063},\"2020-01-21\":{\"total_cases\":0,\"active_cases\":0,\"deaths\":0,\"recovered\":0,\"critical\":0,\"tested\":0,\"death_ratio\":0,\"recovery_ratio\":0}}}\n"
     ]
    }
   ],
   "source": [
    "url = \"https://coronavirus-map.p.rapidapi.com/v1/spots/summary\"\n",
    "\n",
    "headers = {\n",
    "    'x-rapidapi-host': \"coronavirus-map.p.rapidapi.com\",\n",
    "    'x-rapidapi-key': \"92274cb262msh0708e2c597ea8bfp1f38e4jsn852f247bcc87\"\n",
    "    }\n",
    "\n",
    "response = requests.request(\"GET\", url, headers=headers)\n",
    "\n",
    "print(response.text)"
   ]
  },
  {
   "cell_type": "code",
   "execution_count": 3,
   "metadata": {
    "ExecuteTime": {
     "end_time": "2020-07-16T22:04:16.742613Z",
     "start_time": "2020-07-16T22:04:16.634339Z"
    },
    "scrolled": false
   },
   "outputs": [
    {
     "name": "stderr",
     "output_type": "stream",
     "text": [
      "C:\\Users\\yukar\\anaconda3\\lib\\site-packages\\ipykernel_launcher.py:7: SettingWithCopyWarning: \n",
      "A value is trying to be set on a copy of a slice from a DataFrame\n",
      "\n",
      "See the caveats in the documentation: https://pandas.pydata.org/pandas-docs/stable/user_guide/indexing.html#returning-a-view-versus-a-copy\n",
      "  import sys\n",
      "C:\\Users\\yukar\\anaconda3\\lib\\site-packages\\ipykernel_launcher.py:8: SettingWithCopyWarning: \n",
      "A value is trying to be set on a copy of a slice from a DataFrame\n",
      "\n",
      "See the caveats in the documentation: https://pandas.pydata.org/pandas-docs/stable/user_guide/indexing.html#returning-a-view-versus-a-copy\n",
      "  \n",
      "C:\\Users\\yukar\\anaconda3\\lib\\site-packages\\ipykernel_launcher.py:9: SettingWithCopyWarning: \n",
      "A value is trying to be set on a copy of a slice from a DataFrame\n",
      "\n",
      "See the caveats in the documentation: https://pandas.pydata.org/pandas-docs/stable/user_guide/indexing.html#returning-a-view-versus-a-copy\n",
      "  if __name__ == '__main__':\n"
     ]
    },
    {
     "data": {
      "text/html": [
       "<div>\n",
       "<style scoped>\n",
       "    .dataframe tbody tr th:only-of-type {\n",
       "        vertical-align: middle;\n",
       "    }\n",
       "\n",
       "    .dataframe tbody tr th {\n",
       "        vertical-align: top;\n",
       "    }\n",
       "\n",
       "    .dataframe thead th {\n",
       "        text-align: right;\n",
       "    }\n",
       "</style>\n",
       "<table border=\"1\" class=\"dataframe\">\n",
       "  <thead>\n",
       "    <tr style=\"text-align: right;\">\n",
       "      <th></th>\n",
       "      <th>day</th>\n",
       "      <th>active_cases</th>\n",
       "      <th>total_cases</th>\n",
       "      <th>deaths</th>\n",
       "    </tr>\n",
       "  </thead>\n",
       "  <tbody>\n",
       "    <tr>\n",
       "      <th>0</th>\n",
       "      <td>2020-02-01</td>\n",
       "      <td>11779</td>\n",
       "      <td>12038</td>\n",
       "      <td>259</td>\n",
       "    </tr>\n",
       "    <tr>\n",
       "      <th>1</th>\n",
       "      <td>2020-03-01</td>\n",
       "      <td>85373</td>\n",
       "      <td>88369</td>\n",
       "      <td>2996</td>\n",
       "    </tr>\n",
       "    <tr>\n",
       "      <th>2</th>\n",
       "      <td>2020-04-01</td>\n",
       "      <td>885796</td>\n",
       "      <td>932605</td>\n",
       "      <td>46809</td>\n",
       "    </tr>\n",
       "    <tr>\n",
       "      <th>3</th>\n",
       "      <td>2020-05-01</td>\n",
       "      <td>2080267</td>\n",
       "      <td>3405626</td>\n",
       "      <td>239758</td>\n",
       "    </tr>\n",
       "    <tr>\n",
       "      <th>4</th>\n",
       "      <td>2020-06-01</td>\n",
       "      <td>3092225</td>\n",
       "      <td>6376169</td>\n",
       "      <td>377515</td>\n",
       "    </tr>\n",
       "  </tbody>\n",
       "</table>\n",
       "</div>"
      ],
      "text/plain": [
       "          day  active_cases  total_cases  deaths\n",
       "0  2020-02-01         11779        12038     259\n",
       "1  2020-03-01         85373        88369    2996\n",
       "2  2020-04-01        885796       932605   46809\n",
       "3  2020-05-01       2080267      3405626  239758\n",
       "4  2020-06-01       3092225      6376169  377515"
      ]
     },
     "execution_count": 3,
     "metadata": {},
     "output_type": "execute_result"
    }
   ],
   "source": [
    "val = literal_eval(response.text)\n",
    "df_cases = pd.DataFrame.from_dict(val).reset_index().rename(columns={'index': 'day'}).drop(columns=['status', 'type', 'elements'])\n",
    "df_cases['active_cases'] = 0\n",
    "df_cases['total_cases'] = 0\n",
    "df_cases['deaths'] = 0\n",
    "for item in range(len(df_cases)):\n",
    "    df_cases['active_cases'][item] =  df_cases['data'][item].get('active_cases')\n",
    "    df_cases['total_cases'][item] =  df_cases['data'][item].get('total_cases')\n",
    "    df_cases['deaths'][item] = df_cases['data'][item].get('deaths')\n",
    "\n",
    "df_cases = df_cases.drop(columns=['data'])\n",
    "mask = (df_cases['day']== '2020-01-01') | (df_cases['day']== '2020-02-01') | (df_cases['day']== '2020-03-01') | (df_cases['day']== '2020-04-01') | (df_cases['day']== '2020-05-01') | (df_cases['day']== '2020-06-01')\n",
    "df_cases_day = df_cases[mask].reset_index(drop=True)\n",
    "df_cases_day"
   ]
  },
  {
   "cell_type": "code",
   "execution_count": 60,
   "metadata": {
    "ExecuteTime": {
     "end_time": "2020-07-17T00:53:45.910659Z",
     "start_time": "2020-07-17T00:53:45.894701Z"
    }
   },
   "outputs": [
    {
     "data": {
      "text/html": [
       "<div>\n",
       "<style scoped>\n",
       "    .dataframe tbody tr th:only-of-type {\n",
       "        vertical-align: middle;\n",
       "    }\n",
       "\n",
       "    .dataframe tbody tr th {\n",
       "        vertical-align: top;\n",
       "    }\n",
       "\n",
       "    .dataframe thead th {\n",
       "        text-align: right;\n",
       "    }\n",
       "</style>\n",
       "<table border=\"1\" class=\"dataframe\">\n",
       "  <thead>\n",
       "    <tr style=\"text-align: right;\">\n",
       "      <th></th>\n",
       "      <th>day</th>\n",
       "      <th>active_cases</th>\n",
       "      <th>total_cases</th>\n",
       "      <th>deaths</th>\n",
       "    </tr>\n",
       "  </thead>\n",
       "  <tbody>\n",
       "    <tr>\n",
       "      <th>0</th>\n",
       "      <td>2020-01-21</td>\n",
       "      <td>0</td>\n",
       "      <td>0</td>\n",
       "      <td>0</td>\n",
       "    </tr>\n",
       "    <tr>\n",
       "      <th>1</th>\n",
       "      <td>2020-01-22</td>\n",
       "      <td>538</td>\n",
       "      <td>555</td>\n",
       "      <td>17</td>\n",
       "    </tr>\n",
       "    <tr>\n",
       "      <th>2</th>\n",
       "      <td>2020-01-23</td>\n",
       "      <td>636</td>\n",
       "      <td>654</td>\n",
       "      <td>18</td>\n",
       "    </tr>\n",
       "    <tr>\n",
       "      <th>3</th>\n",
       "      <td>2020-01-24</td>\n",
       "      <td>915</td>\n",
       "      <td>941</td>\n",
       "      <td>26</td>\n",
       "    </tr>\n",
       "    <tr>\n",
       "      <th>4</th>\n",
       "      <td>2020-01-25</td>\n",
       "      <td>1392</td>\n",
       "      <td>1434</td>\n",
       "      <td>42</td>\n",
       "    </tr>\n",
       "    <tr>\n",
       "      <th>...</th>\n",
       "      <td>...</td>\n",
       "      <td>...</td>\n",
       "      <td>...</td>\n",
       "      <td>...</td>\n",
       "    </tr>\n",
       "    <tr>\n",
       "      <th>173</th>\n",
       "      <td>2020-07-12</td>\n",
       "      <td>4916159</td>\n",
       "      <td>13106689</td>\n",
       "      <td>571823</td>\n",
       "    </tr>\n",
       "    <tr>\n",
       "      <th>174</th>\n",
       "      <td>2020-07-13</td>\n",
       "      <td>4951183</td>\n",
       "      <td>13309624</td>\n",
       "      <td>575824</td>\n",
       "    </tr>\n",
       "    <tr>\n",
       "      <th>175</th>\n",
       "      <td>2020-07-14</td>\n",
       "      <td>4989334</td>\n",
       "      <td>13529076</td>\n",
       "      <td>581109</td>\n",
       "    </tr>\n",
       "    <tr>\n",
       "      <th>176</th>\n",
       "      <td>2020-07-15</td>\n",
       "      <td>5035184</td>\n",
       "      <td>13752395</td>\n",
       "      <td>586843</td>\n",
       "    </tr>\n",
       "    <tr>\n",
       "      <th>177</th>\n",
       "      <td>2020-07-16</td>\n",
       "      <td>5082850</td>\n",
       "      <td>13970112</td>\n",
       "      <td>591998</td>\n",
       "    </tr>\n",
       "  </tbody>\n",
       "</table>\n",
       "<p>178 rows × 4 columns</p>\n",
       "</div>"
      ],
      "text/plain": [
       "            day  active_cases  total_cases  deaths\n",
       "0    2020-01-21             0            0       0\n",
       "1    2020-01-22           538          555      17\n",
       "2    2020-01-23           636          654      18\n",
       "3    2020-01-24           915          941      26\n",
       "4    2020-01-25          1392         1434      42\n",
       "..          ...           ...          ...     ...\n",
       "173  2020-07-12       4916159     13106689  571823\n",
       "174  2020-07-13       4951183     13309624  575824\n",
       "175  2020-07-14       4989334     13529076  581109\n",
       "176  2020-07-15       5035184     13752395  586843\n",
       "177  2020-07-16       5082850     13970112  591998\n",
       "\n",
       "[178 rows x 4 columns]"
      ]
     },
     "execution_count": 60,
     "metadata": {},
     "output_type": "execute_result"
    }
   ],
   "source": [
    "df_cases"
   ]
  },
  {
   "cell_type": "markdown",
   "metadata": {},
   "source": [
    "<b>API: Quantidade de acessos - Netflix</b>"
   ]
  },
  {
   "cell_type": "code",
   "execution_count": 4,
   "metadata": {
    "ExecuteTime": {
     "end_time": "2020-07-16T22:04:18.249231Z",
     "start_time": "2020-07-16T22:04:16.743573Z"
    },
    "scrolled": true
   },
   "outputs": [
    {
     "name": "stdout",
     "output_type": "stream",
     "text": [
      "{\"engagement\":{\"avgVisitDuration\":585,\"bounceRate\":0.4343,\"pagesPerVisit\":4.25,\"totalVisits\":2528200000},\"monthlyVisitsEstimate\":{\"2020-01-01\":2388000000,\"2020-02-01\":2003000000,\"2020-03-01\":2524000000,\"2020-04-01\":2967000000,\"2020-05-01\":2795000000,\"2020-06-01\":2528000000},\"name\":\"netflix.com\",\"trafficShareByCountry\":[{\"United States\":0.2596},{\"Brazil\":0.0677},{\"United Kingdom\":0.0555},{\"Canada\":0.0528},{\"France\":0.0355}],\"trafficSources\":{\"Direct\":0.8729,\"Mail\":0.0186,\"Paid Referrals\":0.0003,\"Referrals\":0.0018,\"Search\":0.084,\"Social\":0.022}}\n",
      "\n"
     ]
    }
   ],
   "source": [
    "url = \"https://similarweb2.p.rapidapi.com/trafficoverview\"\n",
    "\n",
    "querystring = {\"website\":\"https://www.netflix.com\"}\n",
    "\n",
    "headers = {\n",
    "    'x-rapidapi-host': \"similarweb2.p.rapidapi.com\",\n",
    "    'x-rapidapi-key': \"92274cb262msh0708e2c597ea8bfp1f38e4jsn852f247bcc87\"\n",
    "    }\n",
    "\n",
    "response = requests.request(\"GET\", url, headers=headers, params=querystring)\n",
    "\n",
    "print(response.text)"
   ]
  },
  {
   "cell_type": "code",
   "execution_count": 5,
   "metadata": {
    "ExecuteTime": {
     "end_time": "2020-07-16T22:04:18.281146Z",
     "start_time": "2020-07-16T22:04:18.254222Z"
    },
    "scrolled": true
   },
   "outputs": [
    {
     "data": {
      "text/html": [
       "<div>\n",
       "<style scoped>\n",
       "    .dataframe tbody tr th:only-of-type {\n",
       "        vertical-align: middle;\n",
       "    }\n",
       "\n",
       "    .dataframe tbody tr th {\n",
       "        vertical-align: top;\n",
       "    }\n",
       "\n",
       "    .dataframe thead th {\n",
       "        text-align: right;\n",
       "    }\n",
       "</style>\n",
       "<table border=\"1\" class=\"dataframe\">\n",
       "  <thead>\n",
       "    <tr style=\"text-align: right;\">\n",
       "      <th></th>\n",
       "      <th>Data</th>\n",
       "      <th>Qtd_Acessos</th>\n",
       "    </tr>\n",
       "  </thead>\n",
       "  <tbody>\n",
       "    <tr>\n",
       "      <th>1</th>\n",
       "      <td>2020-02-01</td>\n",
       "      <td>2003000000</td>\n",
       "    </tr>\n",
       "    <tr>\n",
       "      <th>2</th>\n",
       "      <td>2020-03-01</td>\n",
       "      <td>2524000000</td>\n",
       "    </tr>\n",
       "    <tr>\n",
       "      <th>3</th>\n",
       "      <td>2020-04-01</td>\n",
       "      <td>2967000000</td>\n",
       "    </tr>\n",
       "    <tr>\n",
       "      <th>4</th>\n",
       "      <td>2020-05-01</td>\n",
       "      <td>2795000000</td>\n",
       "    </tr>\n",
       "    <tr>\n",
       "      <th>5</th>\n",
       "      <td>2020-06-01</td>\n",
       "      <td>2528000000</td>\n",
       "    </tr>\n",
       "  </tbody>\n",
       "</table>\n",
       "</div>"
      ],
      "text/plain": [
       "         Data  Qtd_Acessos\n",
       "1  2020-02-01   2003000000\n",
       "2  2020-03-01   2524000000\n",
       "3  2020-04-01   2967000000\n",
       "4  2020-05-01   2795000000\n",
       "5  2020-06-01   2528000000"
      ]
     },
     "execution_count": 5,
     "metadata": {},
     "output_type": "execute_result"
    }
   ],
   "source": [
    "netflix = literal_eval(response.text)\n",
    "month_netflix = netflix.get('monthlyVisitsEstimate')\n",
    "df_netflix = pd.DataFrame.from_dict(month_netflix, orient='index').reset_index().rename(columns={'index':'Data', 0: \"Qtd_Acessos\"})\n",
    "mask = df_netflix['Data'] != '2020-01-01'\n",
    "df_netflix = df_netflix[mask]\n",
    "df_netflix"
   ]
  },
  {
   "cell_type": "code",
   "execution_count": 32,
   "metadata": {
    "ExecuteTime": {
     "end_time": "2020-07-16T22:51:23.415022Z",
     "start_time": "2020-07-16T22:51:23.400062Z"
    }
   },
   "outputs": [
    {
     "data": {
      "text/html": [
       "<div>\n",
       "<style scoped>\n",
       "    .dataframe tbody tr th:only-of-type {\n",
       "        vertical-align: middle;\n",
       "    }\n",
       "\n",
       "    .dataframe tbody tr th {\n",
       "        vertical-align: top;\n",
       "    }\n",
       "\n",
       "    .dataframe thead th {\n",
       "        text-align: right;\n",
       "    }\n",
       "</style>\n",
       "<table border=\"1\" class=\"dataframe\">\n",
       "  <thead>\n",
       "    <tr style=\"text-align: right;\">\n",
       "      <th></th>\n",
       "      <th>country</th>\n",
       "      <th>country_acessos</th>\n",
       "    </tr>\n",
       "  </thead>\n",
       "  <tbody>\n",
       "    <tr>\n",
       "      <th>0</th>\n",
       "      <td>United States</td>\n",
       "      <td>0.2020</td>\n",
       "    </tr>\n",
       "    <tr>\n",
       "      <th>1</th>\n",
       "      <td>Russian Federation</td>\n",
       "      <td>0.0534</td>\n",
       "    </tr>\n",
       "    <tr>\n",
       "      <th>2</th>\n",
       "      <td>Brazil</td>\n",
       "      <td>0.0511</td>\n",
       "    </tr>\n",
       "    <tr>\n",
       "      <th>3</th>\n",
       "      <td>United Kingdom</td>\n",
       "      <td>0.0389</td>\n",
       "    </tr>\n",
       "    <tr>\n",
       "      <th>4</th>\n",
       "      <td>India</td>\n",
       "      <td>0.0352</td>\n",
       "    </tr>\n",
       "  </tbody>\n",
       "</table>\n",
       "</div>"
      ],
      "text/plain": [
       "              country  country_acessos\n",
       "0       United States           0.2020\n",
       "1  Russian Federation           0.0534\n",
       "2              Brazil           0.0511\n",
       "3      United Kingdom           0.0389\n",
       "4               India           0.0352"
      ]
     },
     "execution_count": 32,
     "metadata": {},
     "output_type": "execute_result"
    }
   ],
   "source": [
    "country_netflix = youtube.get(\"trafficShareByCountry\")\n",
    "df_p_netflix = pd.DataFrame(country_netflix).T\n",
    "df_p_netflix['country_acessos'] = df_p_netflix.T.sum()\n",
    "df_p_netflix = df_p_netflix.drop(columns=[0, 1, 2, 3, 4]).reset_index().rename(columns={'index':'country'})\n",
    "df_p_netflix"
   ]
  },
  {
   "cell_type": "markdown",
   "metadata": {},
   "source": [
    "<b>API: Quantidade de acessos - Youtube</b>"
   ]
  },
  {
   "cell_type": "code",
   "execution_count": 6,
   "metadata": {
    "ExecuteTime": {
     "end_time": "2020-07-16T22:04:19.655913Z",
     "start_time": "2020-07-16T22:04:18.285143Z"
    }
   },
   "outputs": [
    {
     "name": "stdout",
     "output_type": "stream",
     "text": [
      "{\"engagement\":{\"avgVisitDuration\":1329,\"bounceRate\":0.2525,\"pagesPerVisit\":9.28,\"totalVisits\":31052000000},\"monthlyVisitsEstimate\":{\"2020-01-01\":29530000000,\"2020-02-01\":27360000000,\"2020-03-01\":31340000000,\"2020-04-01\":33380000000,\"2020-05-01\":33540000000,\"2020-06-01\":31050000000},\"name\":\"youtube.com\",\"trafficShareByCountry\":[{\"United States\":0.202},{\"Russian Federation\":0.0534},{\"Brazil\":0.0511},{\"United Kingdom\":0.0389},{\"India\":0.0352}],\"trafficSources\":{\"Direct\":0.7234,\"Mail\":0.0222,\"Paid Referrals\":0.0006,\"Referrals\":0.016,\"Search\":0.2004,\"Social\":0.0371}}\n",
      "\n"
     ]
    }
   ],
   "source": [
    "url = \"https://similarweb2.p.rapidapi.com/trafficoverview\"\n",
    "\n",
    "querystring = {\"website\":\"https://www.youtube.com\"}\n",
    "\n",
    "headers = {\n",
    "    'x-rapidapi-host': \"similarweb2.p.rapidapi.com\",\n",
    "    'x-rapidapi-key': \"92274cb262msh0708e2c597ea8bfp1f38e4jsn852f247bcc87\"\n",
    "    }\n",
    "\n",
    "response = requests.request(\"GET\", url, headers=headers, params=querystring)\n",
    "\n",
    "print(response.text)"
   ]
  },
  {
   "cell_type": "code",
   "execution_count": 7,
   "metadata": {
    "ExecuteTime": {
     "end_time": "2020-07-16T22:04:19.702781Z",
     "start_time": "2020-07-16T22:04:19.663890Z"
    }
   },
   "outputs": [
    {
     "data": {
      "text/html": [
       "<div>\n",
       "<style scoped>\n",
       "    .dataframe tbody tr th:only-of-type {\n",
       "        vertical-align: middle;\n",
       "    }\n",
       "\n",
       "    .dataframe tbody tr th {\n",
       "        vertical-align: top;\n",
       "    }\n",
       "\n",
       "    .dataframe thead th {\n",
       "        text-align: right;\n",
       "    }\n",
       "</style>\n",
       "<table border=\"1\" class=\"dataframe\">\n",
       "  <thead>\n",
       "    <tr style=\"text-align: right;\">\n",
       "      <th></th>\n",
       "      <th>Data</th>\n",
       "      <th>Qtd_Acessos</th>\n",
       "    </tr>\n",
       "  </thead>\n",
       "  <tbody>\n",
       "    <tr>\n",
       "      <th>1</th>\n",
       "      <td>2020-02-01</td>\n",
       "      <td>27360000000</td>\n",
       "    </tr>\n",
       "    <tr>\n",
       "      <th>2</th>\n",
       "      <td>2020-03-01</td>\n",
       "      <td>31340000000</td>\n",
       "    </tr>\n",
       "    <tr>\n",
       "      <th>3</th>\n",
       "      <td>2020-04-01</td>\n",
       "      <td>33380000000</td>\n",
       "    </tr>\n",
       "    <tr>\n",
       "      <th>4</th>\n",
       "      <td>2020-05-01</td>\n",
       "      <td>33540000000</td>\n",
       "    </tr>\n",
       "    <tr>\n",
       "      <th>5</th>\n",
       "      <td>2020-06-01</td>\n",
       "      <td>31050000000</td>\n",
       "    </tr>\n",
       "  </tbody>\n",
       "</table>\n",
       "</div>"
      ],
      "text/plain": [
       "         Data  Qtd_Acessos\n",
       "1  2020-02-01  27360000000\n",
       "2  2020-03-01  31340000000\n",
       "3  2020-04-01  33380000000\n",
       "4  2020-05-01  33540000000\n",
       "5  2020-06-01  31050000000"
      ]
     },
     "execution_count": 7,
     "metadata": {},
     "output_type": "execute_result"
    }
   ],
   "source": [
    "youtube = literal_eval(response.text)\n",
    "month_youtube = youtube.get('monthlyVisitsEstimate')\n",
    "df_youtube = pd.DataFrame.from_dict(month_youtube, orient='index').reset_index().rename(columns={'index':'Data', 0: \"Qtd_Acessos\"})\n",
    "mask = df_youtube['Data'] != '2020-01-01'\n",
    "df_youtube = df_youtube[mask]\n",
    "df_youtube"
   ]
  },
  {
   "cell_type": "code",
   "execution_count": 29,
   "metadata": {
    "ExecuteTime": {
     "end_time": "2020-07-16T22:18:42.761780Z",
     "start_time": "2020-07-16T22:18:42.740838Z"
    },
    "scrolled": true
   },
   "outputs": [
    {
     "data": {
      "text/html": [
       "<div>\n",
       "<style scoped>\n",
       "    .dataframe tbody tr th:only-of-type {\n",
       "        vertical-align: middle;\n",
       "    }\n",
       "\n",
       "    .dataframe tbody tr th {\n",
       "        vertical-align: top;\n",
       "    }\n",
       "\n",
       "    .dataframe thead th {\n",
       "        text-align: right;\n",
       "    }\n",
       "</style>\n",
       "<table border=\"1\" class=\"dataframe\">\n",
       "  <thead>\n",
       "    <tr style=\"text-align: right;\">\n",
       "      <th></th>\n",
       "      <th>country</th>\n",
       "      <th>country_acessos</th>\n",
       "    </tr>\n",
       "  </thead>\n",
       "  <tbody>\n",
       "    <tr>\n",
       "      <th>0</th>\n",
       "      <td>United States</td>\n",
       "      <td>0.2020</td>\n",
       "    </tr>\n",
       "    <tr>\n",
       "      <th>1</th>\n",
       "      <td>Russian Federation</td>\n",
       "      <td>0.0534</td>\n",
       "    </tr>\n",
       "    <tr>\n",
       "      <th>2</th>\n",
       "      <td>Brazil</td>\n",
       "      <td>0.0511</td>\n",
       "    </tr>\n",
       "    <tr>\n",
       "      <th>3</th>\n",
       "      <td>United Kingdom</td>\n",
       "      <td>0.0389</td>\n",
       "    </tr>\n",
       "    <tr>\n",
       "      <th>4</th>\n",
       "      <td>India</td>\n",
       "      <td>0.0352</td>\n",
       "    </tr>\n",
       "  </tbody>\n",
       "</table>\n",
       "</div>"
      ],
      "text/plain": [
       "              country  country_acessos\n",
       "0       United States           0.2020\n",
       "1  Russian Federation           0.0534\n",
       "2              Brazil           0.0511\n",
       "3      United Kingdom           0.0389\n",
       "4               India           0.0352"
      ]
     },
     "execution_count": 29,
     "metadata": {},
     "output_type": "execute_result"
    }
   ],
   "source": [
    "country_youtube = youtube.get(\"trafficShareByCountry\")\n",
    "df_p_youtube = pd.DataFrame(country_youtube).T\n",
    "df_p_youtube['country_acessos'] = df_p_youtube.T.sum()\n",
    "df_p_youtube = df_p_youtube.drop(columns=[0, 1, 2, 3, 4]).reset_index().rename(columns={'index':'country'})\n",
    "df_p_youtube"
   ]
  },
  {
   "cell_type": "markdown",
   "metadata": {},
   "source": [
    "<b>Base de dados</b>"
   ]
  },
  {
   "cell_type": "code",
   "execution_count": 38,
   "metadata": {
    "ExecuteTime": {
     "end_time": "2020-07-16T22:58:45.349645Z",
     "start_time": "2020-07-16T22:58:45.332691Z"
    }
   },
   "outputs": [
    {
     "data": {
      "text/html": [
       "<div>\n",
       "<style scoped>\n",
       "    .dataframe tbody tr th:only-of-type {\n",
       "        vertical-align: middle;\n",
       "    }\n",
       "\n",
       "    .dataframe tbody tr th {\n",
       "        vertical-align: top;\n",
       "    }\n",
       "\n",
       "    .dataframe thead th {\n",
       "        text-align: right;\n",
       "    }\n",
       "</style>\n",
       "<table border=\"1\" class=\"dataframe\">\n",
       "  <thead>\n",
       "    <tr style=\"text-align: right;\">\n",
       "      <th></th>\n",
       "      <th>Data</th>\n",
       "      <th>Qtd_Acessos_netflix</th>\n",
       "      <th>Qtd_Acessos_youtube</th>\n",
       "    </tr>\n",
       "  </thead>\n",
       "  <tbody>\n",
       "    <tr>\n",
       "      <th>0</th>\n",
       "      <td>2020-02-01</td>\n",
       "      <td>2003000000</td>\n",
       "      <td>27360000000</td>\n",
       "    </tr>\n",
       "    <tr>\n",
       "      <th>1</th>\n",
       "      <td>2020-03-01</td>\n",
       "      <td>2524000000</td>\n",
       "      <td>31340000000</td>\n",
       "    </tr>\n",
       "    <tr>\n",
       "      <th>2</th>\n",
       "      <td>2020-04-01</td>\n",
       "      <td>2967000000</td>\n",
       "      <td>33380000000</td>\n",
       "    </tr>\n",
       "    <tr>\n",
       "      <th>3</th>\n",
       "      <td>2020-05-01</td>\n",
       "      <td>2795000000</td>\n",
       "      <td>33540000000</td>\n",
       "    </tr>\n",
       "    <tr>\n",
       "      <th>4</th>\n",
       "      <td>2020-06-01</td>\n",
       "      <td>2528000000</td>\n",
       "      <td>31050000000</td>\n",
       "    </tr>\n",
       "  </tbody>\n",
       "</table>\n",
       "</div>"
      ],
      "text/plain": [
       "         Data  Qtd_Acessos_netflix  Qtd_Acessos_youtube\n",
       "0  2020-02-01           2003000000          27360000000\n",
       "1  2020-03-01           2524000000          31340000000\n",
       "2  2020-04-01           2967000000          33380000000\n",
       "3  2020-05-01           2795000000          33540000000\n",
       "4  2020-06-01           2528000000          31050000000"
      ]
     },
     "execution_count": 38,
     "metadata": {},
     "output_type": "execute_result"
    }
   ],
   "source": [
    "acessos = pd.merge(df_netflix, df_youtube, on='Data', how='left', suffixes=('_netflix', '_youtube')).reset_index(drop=True)\n",
    "acessos"
   ]
  },
  {
   "cell_type": "code",
   "execution_count": 46,
   "metadata": {
    "ExecuteTime": {
     "end_time": "2020-07-16T23:07:07.160573Z",
     "start_time": "2020-07-16T23:07:07.145614Z"
    }
   },
   "outputs": [],
   "source": [
    "df_cases_day.to_csv('cases.csv')\n",
    "acessos.to_csv('acessos.csv')\n",
    "df_p_youtube.to_csv('paises_youtube.csv')\n",
    "df_p_netflix.to_csv('paises_netflix.csv')"
   ]
  },
  {
   "cell_type": "code",
   "execution_count": 47,
   "metadata": {
    "ExecuteTime": {
     "end_time": "2020-07-16T23:09:09.937608Z",
     "start_time": "2020-07-16T23:09:09.930627Z"
    }
   },
   "outputs": [
    {
     "data": {
      "text/plain": [
       "0    2020-02-01\n",
       "1    2020-03-01\n",
       "2    2020-04-01\n",
       "3    2020-05-01\n",
       "4    2020-06-01\n",
       "Name: day, dtype: object"
      ]
     },
     "execution_count": 47,
     "metadata": {},
     "output_type": "execute_result"
    }
   ],
   "source": [
    "df_cases_day['day']"
   ]
  },
  {
   "cell_type": "markdown",
   "metadata": {},
   "source": [
    "<b>Gráficos<b>"
   ]
  },
  {
   "cell_type": "code",
   "execution_count": 61,
   "metadata": {
    "ExecuteTime": {
     "end_time": "2020-07-17T01:03:36.538896Z",
     "start_time": "2020-07-17T01:03:36.148134Z"
    }
   },
   "outputs": [
    {
     "data": {
      "image/png": "[encoded data removed]",
      "text/plain": [
       "<Figure size 720x648 with 3 Axes>"
      ]
     },
     "metadata": {
      "needs_background": "light"
     },
     "output_type": "display_data"
    }
   ],
   "source": [
    "fig, ax = plt.subplots(3, 1, figsize=(10,9))\n",
    "ax[0].plot(df_cases_day['day'], df_cases_day['total_cases'], 'r-')\n",
    "ax[0].legend(['Casos de COVID-19'])\n",
    "\n",
    "ax[1].bar(df_netflix['Data'], df_netflix['Qtd_Acessos'], width=0.25, color = 'b')\n",
    "ax[1].legend(['Quantidade de acessos na Netflix'])\n",
    "\n",
    "ax[2].bar(df_youtube['Data'], df_youtube['Qtd_Acessos'], width=0.25, color = 'r')\n",
    "ax[2].legend(['Quantidade de acessos no Youtube'])\n",
    "plt.show()"
   ]
  },
  {
   "cell_type": "code",
   "execution_count": null,
   "metadata": {},
   "outputs": [],
   "source": []
  },
  {
   "cell_type": "code",
   "execution_count": null,
   "metadata": {},
   "outputs": [],
   "source": []
  }
 ],
 "metadata": {
  "kernelspec": {
   "display_name": "Python 3",
   "language": "python",
   "name": "python3"
  },
  "language_info": {
   "codemirror_mode": {
    "name": "ipython",
    "version": 3
   },
   "file_extension": ".py",
   "mimetype": "text/x-python",
   "name": "python",
   "nbconvert_exporter": "python",
   "pygments_lexer": "ipython3",
   "version": "3.7.6"
  },
  "nbTranslate": {
   "displayLangs": [
    "*"
   ],
   "hotkey": "alt-t",
   "langInMainMenu": true,
   "sourceLang": "en",
   "targetLang": "fr",
   "useGoogleTranslate": true
  },
  "toc": {
   "base_numbering": 1,
   "nav_menu": {},
   "number_sections": true,
   "sideBar": true,
   "skip_h1_title": false,
   "title_cell": "Table of Contents",
   "title_sidebar": "Contents",
   "toc_cell": false,
   "toc_position": {},
   "toc_section_display": true,
   "toc_window_display": false
  }
 },
 "nbformat": 4,
 "nbformat_minor": 4
}
